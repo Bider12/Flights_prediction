{
  "nbformat": 4,
  "nbformat_minor": 0,
  "metadata": {
    "kernelspec": {
      "display_name": "Python 3",
      "language": "python",
      "name": "python3"
    },
    "language_info": {
      "codemirror_mode": {
        "name": "ipython",
        "version": 3
      },
      "file_extension": ".py",
      "mimetype": "text/x-python",
      "name": "python",
      "nbconvert_exporter": "python",
      "pygments_lexer": "ipython3",
      "version": "3.8.3"
    },
    "colab": {
      "name": "ProjektKoncowy6.ipynb",
      "provenance": [],
      "collapsed_sections": []
    }
  },
  "cells": [
    {
      "cell_type": "code",
      "metadata": {
        "id": "Dj2baUskV2mj"
      },
      "source": [
        "import pandas as pd\n",
        "import seaborn as sns\n",
        "import numpy as np\n",
        "import datetime\n",
        "import matplotlib.pyplot as plt\n"
      ],
      "execution_count": 2,
      "outputs": []
    },
    {
      "cell_type": "code",
      "metadata": {
        "id": "h691Yd79V2mp"
      },
      "source": [
        "airlines = pd.read_csv('airlines.csv')\n",
        "airports = pd.read_csv('airports.csv')\n",
        "flights = pd.read_csv('flights.csv', low_memory = False)\n"
      ],
      "execution_count": 3,
      "outputs": []
    },
    {
      "cell_type": "code",
      "metadata": {
        "colab": {
          "base_uri": "https://localhost:8080/"
        },
        "id": "6qJLXB_AV2mq",
        "outputId": "059d36cc-2d10-4eab-cead-b7c9f5c67e35"
      },
      "source": [
        "flights.info()"
      ],
      "execution_count": 4,
      "outputs": [
        {
          "output_type": "stream",
          "name": "stdout",
          "text": [
            "<class 'pandas.core.frame.DataFrame'>\n",
            "RangeIndex: 5819079 entries, 0 to 5819078\n",
            "Data columns (total 31 columns):\n",
            " #   Column               Dtype  \n",
            "---  ------               -----  \n",
            " 0   YEAR                 int64  \n",
            " 1   MONTH                int64  \n",
            " 2   DAY                  int64  \n",
            " 3   DAY_OF_WEEK          int64  \n",
            " 4   AIRLINE              object \n",
            " 5   FLIGHT_NUMBER        int64  \n",
            " 6   TAIL_NUMBER          object \n",
            " 7   ORIGIN_AIRPORT       object \n",
            " 8   DESTINATION_AIRPORT  object \n",
            " 9   SCHEDULED_DEPARTURE  int64  \n",
            " 10  DEPARTURE_TIME       float64\n",
            " 11  DEPARTURE_DELAY      float64\n",
            " 12  TAXI_OUT             float64\n",
            " 13  WHEELS_OFF           float64\n",
            " 14  SCHEDULED_TIME       float64\n",
            " 15  ELAPSED_TIME         float64\n",
            " 16  AIR_TIME             float64\n",
            " 17  DISTANCE             int64  \n",
            " 18  WHEELS_ON            float64\n",
            " 19  TAXI_IN              float64\n",
            " 20  SCHEDULED_ARRIVAL    int64  \n",
            " 21  ARRIVAL_TIME         float64\n",
            " 22  ARRIVAL_DELAY        float64\n",
            " 23  DIVERTED             int64  \n",
            " 24  CANCELLED            int64  \n",
            " 25  CANCELLATION_REASON  object \n",
            " 26  AIR_SYSTEM_DELAY     float64\n",
            " 27  SECURITY_DELAY       float64\n",
            " 28  AIRLINE_DELAY        float64\n",
            " 29  LATE_AIRCRAFT_DELAY  float64\n",
            " 30  WEATHER_DELAY        float64\n",
            "dtypes: float64(16), int64(10), object(5)\n",
            "memory usage: 1.3+ GB\n"
          ]
        }
      ]
    },
    {
      "cell_type": "code",
      "metadata": {
        "colab": {
          "base_uri": "https://localhost:8080/"
        },
        "id": "viTeVGhsV2mr",
        "outputId": "2522dd98-ae0d-4954-a310-e7e2c224e907"
      },
      "source": [
        "flights.isnull().sum()"
      ],
      "execution_count": 5,
      "outputs": [
        {
          "output_type": "execute_result",
          "data": {
            "text/plain": [
              "YEAR                         0\n",
              "MONTH                        0\n",
              "DAY                          0\n",
              "DAY_OF_WEEK                  0\n",
              "AIRLINE                      0\n",
              "FLIGHT_NUMBER                0\n",
              "TAIL_NUMBER              14721\n",
              "ORIGIN_AIRPORT               0\n",
              "DESTINATION_AIRPORT          0\n",
              "SCHEDULED_DEPARTURE          0\n",
              "DEPARTURE_TIME           86153\n",
              "DEPARTURE_DELAY          86153\n",
              "TAXI_OUT                 89047\n",
              "WHEELS_OFF               89047\n",
              "SCHEDULED_TIME               6\n",
              "ELAPSED_TIME            105071\n",
              "AIR_TIME                105071\n",
              "DISTANCE                     0\n",
              "WHEELS_ON                92513\n",
              "TAXI_IN                  92513\n",
              "SCHEDULED_ARRIVAL            0\n",
              "ARRIVAL_TIME             92513\n",
              "ARRIVAL_DELAY           105071\n",
              "DIVERTED                     0\n",
              "CANCELLED                    0\n",
              "CANCELLATION_REASON    5729195\n",
              "AIR_SYSTEM_DELAY       4755640\n",
              "SECURITY_DELAY         4755640\n",
              "AIRLINE_DELAY          4755640\n",
              "LATE_AIRCRAFT_DELAY    4755640\n",
              "WEATHER_DELAY          4755640\n",
              "dtype: int64"
            ]
          },
          "metadata": {},
          "execution_count": 5
        }
      ]
    },
    {
      "cell_type": "code",
      "metadata": {
        "colab": {
          "base_uri": "https://localhost:8080/"
        },
        "id": "4gEhbBzcV2ms",
        "outputId": "ae76714b-f468-44e5-8d2d-5524d8d5bc6c"
      },
      "source": [
        "flights.loc[((flights['CANCELLED']==0)&(flights['DIVERTED']==0)),:].isnull().sum()"
      ],
      "execution_count": 6,
      "outputs": [
        {
          "output_type": "execute_result",
          "data": {
            "text/plain": [
              "YEAR                         0\n",
              "MONTH                        0\n",
              "DAY                          0\n",
              "DAY_OF_WEEK                  0\n",
              "AIRLINE                      0\n",
              "FLIGHT_NUMBER                0\n",
              "TAIL_NUMBER                  0\n",
              "ORIGIN_AIRPORT               0\n",
              "DESTINATION_AIRPORT          0\n",
              "SCHEDULED_DEPARTURE          0\n",
              "DEPARTURE_TIME               0\n",
              "DEPARTURE_DELAY              0\n",
              "TAXI_OUT                     0\n",
              "WHEELS_OFF                   0\n",
              "SCHEDULED_TIME               0\n",
              "ELAPSED_TIME                 0\n",
              "AIR_TIME                     0\n",
              "DISTANCE                     0\n",
              "WHEELS_ON                    0\n",
              "TAXI_IN                      0\n",
              "SCHEDULED_ARRIVAL            0\n",
              "ARRIVAL_TIME                 0\n",
              "ARRIVAL_DELAY                0\n",
              "DIVERTED                     0\n",
              "CANCELLED                    0\n",
              "CANCELLATION_REASON    5714008\n",
              "AIR_SYSTEM_DELAY       4650569\n",
              "SECURITY_DELAY         4650569\n",
              "AIRLINE_DELAY          4650569\n",
              "LATE_AIRCRAFT_DELAY    4650569\n",
              "WEATHER_DELAY          4650569\n",
              "dtype: int64"
            ]
          },
          "metadata": {},
          "execution_count": 6
        }
      ]
    },
    {
      "cell_type": "code",
      "metadata": {
        "id": "2_KgN8dlV2mt"
      },
      "source": [
        "#'DEPARTURE_TIME' = WHEEL_OFF - TAXI_OUT\n",
        "# 'AIR_TIME' The time duration between wheels_off and wheels_on time\n",
        "# 'ELAPSED_TIME' AIR_TIME+TAXI_IN+TAXI_OUT\n",
        "# 'ARRIVAL_TIME'   WHEELS_ON+TAXI_IN"
      ],
      "execution_count": 7,
      "outputs": []
    },
    {
      "cell_type": "code",
      "metadata": {
        "id": "RygvAzovV2mt"
      },
      "source": [
        "flights_1 = flights.loc[((flights['CANCELLED']==0)&(flights['DIVERTED']==0)),:].copy()\n",
        "flights_1.drop(['CANCELLED','DIVERTED','CANCELLATION_REASON','AIR_SYSTEM_DELAY'\n",
        "                ,'SECURITY_DELAY','AIRLINE_DELAY','LATE_AIRCRAFT_DELAY','WEATHER_DELAY'], axis=1, inplace=True)"
      ],
      "execution_count": 8,
      "outputs": []
    },
    {
      "cell_type": "code",
      "metadata": {
        "colab": {
          "base_uri": "https://localhost:8080/",
          "height": 224
        },
        "id": "RrqVAjN3V2mu",
        "outputId": "78e81104-e29e-492f-85c1-5ad1a9f4d1cb"
      },
      "source": [
        "flights_1.head()"
      ],
      "execution_count": 9,
      "outputs": [
        {
          "output_type": "execute_result",
          "data": {
            "text/html": [
              "<div>\n",
              "<style scoped>\n",
              "    .dataframe tbody tr th:only-of-type {\n",
              "        vertical-align: middle;\n",
              "    }\n",
              "\n",
              "    .dataframe tbody tr th {\n",
              "        vertical-align: top;\n",
              "    }\n",
              "\n",
              "    .dataframe thead th {\n",
              "        text-align: right;\n",
              "    }\n",
              "</style>\n",
              "<table border=\"1\" class=\"dataframe\">\n",
              "  <thead>\n",
              "    <tr style=\"text-align: right;\">\n",
              "      <th></th>\n",
              "      <th>YEAR</th>\n",
              "      <th>MONTH</th>\n",
              "      <th>DAY</th>\n",
              "      <th>DAY_OF_WEEK</th>\n",
              "      <th>AIRLINE</th>\n",
              "      <th>FLIGHT_NUMBER</th>\n",
              "      <th>TAIL_NUMBER</th>\n",
              "      <th>ORIGIN_AIRPORT</th>\n",
              "      <th>DESTINATION_AIRPORT</th>\n",
              "      <th>SCHEDULED_DEPARTURE</th>\n",
              "      <th>DEPARTURE_TIME</th>\n",
              "      <th>DEPARTURE_DELAY</th>\n",
              "      <th>TAXI_OUT</th>\n",
              "      <th>WHEELS_OFF</th>\n",
              "      <th>SCHEDULED_TIME</th>\n",
              "      <th>ELAPSED_TIME</th>\n",
              "      <th>AIR_TIME</th>\n",
              "      <th>DISTANCE</th>\n",
              "      <th>WHEELS_ON</th>\n",
              "      <th>TAXI_IN</th>\n",
              "      <th>SCHEDULED_ARRIVAL</th>\n",
              "      <th>ARRIVAL_TIME</th>\n",
              "      <th>ARRIVAL_DELAY</th>\n",
              "    </tr>\n",
              "  </thead>\n",
              "  <tbody>\n",
              "    <tr>\n",
              "      <th>0</th>\n",
              "      <td>2015</td>\n",
              "      <td>1</td>\n",
              "      <td>1</td>\n",
              "      <td>4</td>\n",
              "      <td>AS</td>\n",
              "      <td>98</td>\n",
              "      <td>N407AS</td>\n",
              "      <td>ANC</td>\n",
              "      <td>SEA</td>\n",
              "      <td>5</td>\n",
              "      <td>2354.0</td>\n",
              "      <td>-11.0</td>\n",
              "      <td>21.0</td>\n",
              "      <td>15.0</td>\n",
              "      <td>205.0</td>\n",
              "      <td>194.0</td>\n",
              "      <td>169.0</td>\n",
              "      <td>1448</td>\n",
              "      <td>404.0</td>\n",
              "      <td>4.0</td>\n",
              "      <td>430</td>\n",
              "      <td>408.0</td>\n",
              "      <td>-22.0</td>\n",
              "    </tr>\n",
              "    <tr>\n",
              "      <th>1</th>\n",
              "      <td>2015</td>\n",
              "      <td>1</td>\n",
              "      <td>1</td>\n",
              "      <td>4</td>\n",
              "      <td>AA</td>\n",
              "      <td>2336</td>\n",
              "      <td>N3KUAA</td>\n",
              "      <td>LAX</td>\n",
              "      <td>PBI</td>\n",
              "      <td>10</td>\n",
              "      <td>2.0</td>\n",
              "      <td>-8.0</td>\n",
              "      <td>12.0</td>\n",
              "      <td>14.0</td>\n",
              "      <td>280.0</td>\n",
              "      <td>279.0</td>\n",
              "      <td>263.0</td>\n",
              "      <td>2330</td>\n",
              "      <td>737.0</td>\n",
              "      <td>4.0</td>\n",
              "      <td>750</td>\n",
              "      <td>741.0</td>\n",
              "      <td>-9.0</td>\n",
              "    </tr>\n",
              "    <tr>\n",
              "      <th>2</th>\n",
              "      <td>2015</td>\n",
              "      <td>1</td>\n",
              "      <td>1</td>\n",
              "      <td>4</td>\n",
              "      <td>US</td>\n",
              "      <td>840</td>\n",
              "      <td>N171US</td>\n",
              "      <td>SFO</td>\n",
              "      <td>CLT</td>\n",
              "      <td>20</td>\n",
              "      <td>18.0</td>\n",
              "      <td>-2.0</td>\n",
              "      <td>16.0</td>\n",
              "      <td>34.0</td>\n",
              "      <td>286.0</td>\n",
              "      <td>293.0</td>\n",
              "      <td>266.0</td>\n",
              "      <td>2296</td>\n",
              "      <td>800.0</td>\n",
              "      <td>11.0</td>\n",
              "      <td>806</td>\n",
              "      <td>811.0</td>\n",
              "      <td>5.0</td>\n",
              "    </tr>\n",
              "    <tr>\n",
              "      <th>3</th>\n",
              "      <td>2015</td>\n",
              "      <td>1</td>\n",
              "      <td>1</td>\n",
              "      <td>4</td>\n",
              "      <td>AA</td>\n",
              "      <td>258</td>\n",
              "      <td>N3HYAA</td>\n",
              "      <td>LAX</td>\n",
              "      <td>MIA</td>\n",
              "      <td>20</td>\n",
              "      <td>15.0</td>\n",
              "      <td>-5.0</td>\n",
              "      <td>15.0</td>\n",
              "      <td>30.0</td>\n",
              "      <td>285.0</td>\n",
              "      <td>281.0</td>\n",
              "      <td>258.0</td>\n",
              "      <td>2342</td>\n",
              "      <td>748.0</td>\n",
              "      <td>8.0</td>\n",
              "      <td>805</td>\n",
              "      <td>756.0</td>\n",
              "      <td>-9.0</td>\n",
              "    </tr>\n",
              "    <tr>\n",
              "      <th>4</th>\n",
              "      <td>2015</td>\n",
              "      <td>1</td>\n",
              "      <td>1</td>\n",
              "      <td>4</td>\n",
              "      <td>AS</td>\n",
              "      <td>135</td>\n",
              "      <td>N527AS</td>\n",
              "      <td>SEA</td>\n",
              "      <td>ANC</td>\n",
              "      <td>25</td>\n",
              "      <td>24.0</td>\n",
              "      <td>-1.0</td>\n",
              "      <td>11.0</td>\n",
              "      <td>35.0</td>\n",
              "      <td>235.0</td>\n",
              "      <td>215.0</td>\n",
              "      <td>199.0</td>\n",
              "      <td>1448</td>\n",
              "      <td>254.0</td>\n",
              "      <td>5.0</td>\n",
              "      <td>320</td>\n",
              "      <td>259.0</td>\n",
              "      <td>-21.0</td>\n",
              "    </tr>\n",
              "  </tbody>\n",
              "</table>\n",
              "</div>"
            ],
            "text/plain": [
              "   YEAR  MONTH  DAY  ...  SCHEDULED_ARRIVAL ARRIVAL_TIME  ARRIVAL_DELAY\n",
              "0  2015      1    1  ...                430        408.0          -22.0\n",
              "1  2015      1    1  ...                750        741.0           -9.0\n",
              "2  2015      1    1  ...                806        811.0            5.0\n",
              "3  2015      1    1  ...                805        756.0           -9.0\n",
              "4  2015      1    1  ...                320        259.0          -21.0\n",
              "\n",
              "[5 rows x 23 columns]"
            ]
          },
          "metadata": {},
          "execution_count": 9
        }
      ]
    },
    {
      "cell_type": "code",
      "metadata": {
        "id": "nkPI4C2gV2mv"
      },
      "source": [
        "#Zmiana kolumn 'YEAR','MONTH', 'DAY' na 'DATE'"
      ],
      "execution_count": 10,
      "outputs": []
    },
    {
      "cell_type": "code",
      "metadata": {
        "id": "xT709B3rV2mw"
      },
      "source": [
        "flights_1['DATE'] = pd.to_datetime(flights[['YEAR','MONTH', 'DAY']])"
      ],
      "execution_count": 11,
      "outputs": []
    },
    {
      "cell_type": "code",
      "metadata": {
        "id": "0PSdOyLGV2mw"
      },
      "source": [
        "flights_1.drop(['YEAR', 'MONTH','DAY'], axis=1, inplace=True)"
      ],
      "execution_count": 12,
      "outputs": []
    },
    {
      "cell_type": "code",
      "metadata": {
        "colab": {
          "base_uri": "https://localhost:8080/",
          "height": 310
        },
        "id": "K4-S9neKV2mx",
        "outputId": "dec2dac9-3fef-4a7d-ea3f-11f11b48e6fc"
      },
      "source": [
        "flights_1.head()"
      ],
      "execution_count": 13,
      "outputs": [
        {
          "output_type": "execute_result",
          "data": {
            "text/html": [
              "<div>\n",
              "<style scoped>\n",
              "    .dataframe tbody tr th:only-of-type {\n",
              "        vertical-align: middle;\n",
              "    }\n",
              "\n",
              "    .dataframe tbody tr th {\n",
              "        vertical-align: top;\n",
              "    }\n",
              "\n",
              "    .dataframe thead th {\n",
              "        text-align: right;\n",
              "    }\n",
              "</style>\n",
              "<table border=\"1\" class=\"dataframe\">\n",
              "  <thead>\n",
              "    <tr style=\"text-align: right;\">\n",
              "      <th></th>\n",
              "      <th>DAY_OF_WEEK</th>\n",
              "      <th>AIRLINE</th>\n",
              "      <th>FLIGHT_NUMBER</th>\n",
              "      <th>TAIL_NUMBER</th>\n",
              "      <th>ORIGIN_AIRPORT</th>\n",
              "      <th>DESTINATION_AIRPORT</th>\n",
              "      <th>SCHEDULED_DEPARTURE</th>\n",
              "      <th>DEPARTURE_TIME</th>\n",
              "      <th>DEPARTURE_DELAY</th>\n",
              "      <th>TAXI_OUT</th>\n",
              "      <th>WHEELS_OFF</th>\n",
              "      <th>SCHEDULED_TIME</th>\n",
              "      <th>ELAPSED_TIME</th>\n",
              "      <th>AIR_TIME</th>\n",
              "      <th>DISTANCE</th>\n",
              "      <th>WHEELS_ON</th>\n",
              "      <th>TAXI_IN</th>\n",
              "      <th>SCHEDULED_ARRIVAL</th>\n",
              "      <th>ARRIVAL_TIME</th>\n",
              "      <th>ARRIVAL_DELAY</th>\n",
              "      <th>DATE</th>\n",
              "    </tr>\n",
              "  </thead>\n",
              "  <tbody>\n",
              "    <tr>\n",
              "      <th>0</th>\n",
              "      <td>4</td>\n",
              "      <td>AS</td>\n",
              "      <td>98</td>\n",
              "      <td>N407AS</td>\n",
              "      <td>ANC</td>\n",
              "      <td>SEA</td>\n",
              "      <td>5</td>\n",
              "      <td>2354.0</td>\n",
              "      <td>-11.0</td>\n",
              "      <td>21.0</td>\n",
              "      <td>15.0</td>\n",
              "      <td>205.0</td>\n",
              "      <td>194.0</td>\n",
              "      <td>169.0</td>\n",
              "      <td>1448</td>\n",
              "      <td>404.0</td>\n",
              "      <td>4.0</td>\n",
              "      <td>430</td>\n",
              "      <td>408.0</td>\n",
              "      <td>-22.0</td>\n",
              "      <td>2015-01-01</td>\n",
              "    </tr>\n",
              "    <tr>\n",
              "      <th>1</th>\n",
              "      <td>4</td>\n",
              "      <td>AA</td>\n",
              "      <td>2336</td>\n",
              "      <td>N3KUAA</td>\n",
              "      <td>LAX</td>\n",
              "      <td>PBI</td>\n",
              "      <td>10</td>\n",
              "      <td>2.0</td>\n",
              "      <td>-8.0</td>\n",
              "      <td>12.0</td>\n",
              "      <td>14.0</td>\n",
              "      <td>280.0</td>\n",
              "      <td>279.0</td>\n",
              "      <td>263.0</td>\n",
              "      <td>2330</td>\n",
              "      <td>737.0</td>\n",
              "      <td>4.0</td>\n",
              "      <td>750</td>\n",
              "      <td>741.0</td>\n",
              "      <td>-9.0</td>\n",
              "      <td>2015-01-01</td>\n",
              "    </tr>\n",
              "    <tr>\n",
              "      <th>2</th>\n",
              "      <td>4</td>\n",
              "      <td>US</td>\n",
              "      <td>840</td>\n",
              "      <td>N171US</td>\n",
              "      <td>SFO</td>\n",
              "      <td>CLT</td>\n",
              "      <td>20</td>\n",
              "      <td>18.0</td>\n",
              "      <td>-2.0</td>\n",
              "      <td>16.0</td>\n",
              "      <td>34.0</td>\n",
              "      <td>286.0</td>\n",
              "      <td>293.0</td>\n",
              "      <td>266.0</td>\n",
              "      <td>2296</td>\n",
              "      <td>800.0</td>\n",
              "      <td>11.0</td>\n",
              "      <td>806</td>\n",
              "      <td>811.0</td>\n",
              "      <td>5.0</td>\n",
              "      <td>2015-01-01</td>\n",
              "    </tr>\n",
              "    <tr>\n",
              "      <th>3</th>\n",
              "      <td>4</td>\n",
              "      <td>AA</td>\n",
              "      <td>258</td>\n",
              "      <td>N3HYAA</td>\n",
              "      <td>LAX</td>\n",
              "      <td>MIA</td>\n",
              "      <td>20</td>\n",
              "      <td>15.0</td>\n",
              "      <td>-5.0</td>\n",
              "      <td>15.0</td>\n",
              "      <td>30.0</td>\n",
              "      <td>285.0</td>\n",
              "      <td>281.0</td>\n",
              "      <td>258.0</td>\n",
              "      <td>2342</td>\n",
              "      <td>748.0</td>\n",
              "      <td>8.0</td>\n",
              "      <td>805</td>\n",
              "      <td>756.0</td>\n",
              "      <td>-9.0</td>\n",
              "      <td>2015-01-01</td>\n",
              "    </tr>\n",
              "    <tr>\n",
              "      <th>4</th>\n",
              "      <td>4</td>\n",
              "      <td>AS</td>\n",
              "      <td>135</td>\n",
              "      <td>N527AS</td>\n",
              "      <td>SEA</td>\n",
              "      <td>ANC</td>\n",
              "      <td>25</td>\n",
              "      <td>24.0</td>\n",
              "      <td>-1.0</td>\n",
              "      <td>11.0</td>\n",
              "      <td>35.0</td>\n",
              "      <td>235.0</td>\n",
              "      <td>215.0</td>\n",
              "      <td>199.0</td>\n",
              "      <td>1448</td>\n",
              "      <td>254.0</td>\n",
              "      <td>5.0</td>\n",
              "      <td>320</td>\n",
              "      <td>259.0</td>\n",
              "      <td>-21.0</td>\n",
              "      <td>2015-01-01</td>\n",
              "    </tr>\n",
              "  </tbody>\n",
              "</table>\n",
              "</div>"
            ],
            "text/plain": [
              "   DAY_OF_WEEK AIRLINE  FLIGHT_NUMBER  ... ARRIVAL_TIME ARRIVAL_DELAY       DATE\n",
              "0            4      AS             98  ...        408.0         -22.0 2015-01-01\n",
              "1            4      AA           2336  ...        741.0          -9.0 2015-01-01\n",
              "2            4      US            840  ...        811.0           5.0 2015-01-01\n",
              "3            4      AA            258  ...        756.0          -9.0 2015-01-01\n",
              "4            4      AS            135  ...        259.0         -21.0 2015-01-01\n",
              "\n",
              "[5 rows x 21 columns]"
            ]
          },
          "metadata": {},
          "execution_count": 13
        }
      ]
    },
    {
      "cell_type": "code",
      "metadata": {
        "colab": {
          "base_uri": "https://localhost:8080/",
          "height": 204
        },
        "id": "lmF57pGXV2mx",
        "outputId": "5ab881cd-0ea2-4ec0-f7ff-366d394dcc61"
      },
      "source": [
        "airlines.head()"
      ],
      "execution_count": 14,
      "outputs": [
        {
          "output_type": "execute_result",
          "data": {
            "text/html": [
              "<div>\n",
              "<style scoped>\n",
              "    .dataframe tbody tr th:only-of-type {\n",
              "        vertical-align: middle;\n",
              "    }\n",
              "\n",
              "    .dataframe tbody tr th {\n",
              "        vertical-align: top;\n",
              "    }\n",
              "\n",
              "    .dataframe thead th {\n",
              "        text-align: right;\n",
              "    }\n",
              "</style>\n",
              "<table border=\"1\" class=\"dataframe\">\n",
              "  <thead>\n",
              "    <tr style=\"text-align: right;\">\n",
              "      <th></th>\n",
              "      <th>IATA_CODE</th>\n",
              "      <th>AIRLINE</th>\n",
              "    </tr>\n",
              "  </thead>\n",
              "  <tbody>\n",
              "    <tr>\n",
              "      <th>0</th>\n",
              "      <td>UA</td>\n",
              "      <td>United Air Lines Inc.</td>\n",
              "    </tr>\n",
              "    <tr>\n",
              "      <th>1</th>\n",
              "      <td>AA</td>\n",
              "      <td>American Airlines Inc.</td>\n",
              "    </tr>\n",
              "    <tr>\n",
              "      <th>2</th>\n",
              "      <td>US</td>\n",
              "      <td>US Airways Inc.</td>\n",
              "    </tr>\n",
              "    <tr>\n",
              "      <th>3</th>\n",
              "      <td>F9</td>\n",
              "      <td>Frontier Airlines Inc.</td>\n",
              "    </tr>\n",
              "    <tr>\n",
              "      <th>4</th>\n",
              "      <td>B6</td>\n",
              "      <td>JetBlue Airways</td>\n",
              "    </tr>\n",
              "  </tbody>\n",
              "</table>\n",
              "</div>"
            ],
            "text/plain": [
              "  IATA_CODE                 AIRLINE\n",
              "0        UA   United Air Lines Inc.\n",
              "1        AA  American Airlines Inc.\n",
              "2        US         US Airways Inc.\n",
              "3        F9  Frontier Airlines Inc.\n",
              "4        B6         JetBlue Airways"
            ]
          },
          "metadata": {},
          "execution_count": 14
        }
      ]
    },
    {
      "cell_type": "code",
      "metadata": {
        "id": "jkEkRZhDV2my"
      },
      "source": [
        "airlines = airlines.rename(columns={'IATA_CODE' : 'AIRLINE','AIRLINE' : 'AIRLINE_NAME'})"
      ],
      "execution_count": 15,
      "outputs": []
    },
    {
      "cell_type": "code",
      "metadata": {
        "id": "bBoJDJlFV2my"
      },
      "source": [
        "#MERGING"
      ],
      "execution_count": 16,
      "outputs": []
    },
    {
      "cell_type": "code",
      "metadata": {
        "id": "u4ylejSOV2mz"
      },
      "source": [
        " flights_2 = flights_1.merge(airlines, how='inner')"
      ],
      "execution_count": 17,
      "outputs": []
    },
    {
      "cell_type": "code",
      "metadata": {
        "colab": {
          "base_uri": "https://localhost:8080/",
          "height": 310
        },
        "id": "MZlUAoZKV2mz",
        "outputId": "9761b1fb-36b1-4664-c9d8-a683e7df9d5b"
      },
      "source": [
        "flights_2.head()"
      ],
      "execution_count": 18,
      "outputs": [
        {
          "output_type": "execute_result",
          "data": {
            "text/html": [
              "<div>\n",
              "<style scoped>\n",
              "    .dataframe tbody tr th:only-of-type {\n",
              "        vertical-align: middle;\n",
              "    }\n",
              "\n",
              "    .dataframe tbody tr th {\n",
              "        vertical-align: top;\n",
              "    }\n",
              "\n",
              "    .dataframe thead th {\n",
              "        text-align: right;\n",
              "    }\n",
              "</style>\n",
              "<table border=\"1\" class=\"dataframe\">\n",
              "  <thead>\n",
              "    <tr style=\"text-align: right;\">\n",
              "      <th></th>\n",
              "      <th>DAY_OF_WEEK</th>\n",
              "      <th>AIRLINE</th>\n",
              "      <th>FLIGHT_NUMBER</th>\n",
              "      <th>TAIL_NUMBER</th>\n",
              "      <th>ORIGIN_AIRPORT</th>\n",
              "      <th>DESTINATION_AIRPORT</th>\n",
              "      <th>SCHEDULED_DEPARTURE</th>\n",
              "      <th>DEPARTURE_TIME</th>\n",
              "      <th>DEPARTURE_DELAY</th>\n",
              "      <th>TAXI_OUT</th>\n",
              "      <th>WHEELS_OFF</th>\n",
              "      <th>SCHEDULED_TIME</th>\n",
              "      <th>ELAPSED_TIME</th>\n",
              "      <th>AIR_TIME</th>\n",
              "      <th>DISTANCE</th>\n",
              "      <th>WHEELS_ON</th>\n",
              "      <th>TAXI_IN</th>\n",
              "      <th>SCHEDULED_ARRIVAL</th>\n",
              "      <th>ARRIVAL_TIME</th>\n",
              "      <th>ARRIVAL_DELAY</th>\n",
              "      <th>DATE</th>\n",
              "      <th>AIRLINE_NAME</th>\n",
              "    </tr>\n",
              "  </thead>\n",
              "  <tbody>\n",
              "    <tr>\n",
              "      <th>0</th>\n",
              "      <td>4</td>\n",
              "      <td>AS</td>\n",
              "      <td>98</td>\n",
              "      <td>N407AS</td>\n",
              "      <td>ANC</td>\n",
              "      <td>SEA</td>\n",
              "      <td>5</td>\n",
              "      <td>2354.0</td>\n",
              "      <td>-11.0</td>\n",
              "      <td>21.0</td>\n",
              "      <td>15.0</td>\n",
              "      <td>205.0</td>\n",
              "      <td>194.0</td>\n",
              "      <td>169.0</td>\n",
              "      <td>1448</td>\n",
              "      <td>404.0</td>\n",
              "      <td>4.0</td>\n",
              "      <td>430</td>\n",
              "      <td>408.0</td>\n",
              "      <td>-22.0</td>\n",
              "      <td>2015-01-01</td>\n",
              "      <td>Alaska Airlines Inc.</td>\n",
              "    </tr>\n",
              "    <tr>\n",
              "      <th>1</th>\n",
              "      <td>4</td>\n",
              "      <td>AS</td>\n",
              "      <td>135</td>\n",
              "      <td>N527AS</td>\n",
              "      <td>SEA</td>\n",
              "      <td>ANC</td>\n",
              "      <td>25</td>\n",
              "      <td>24.0</td>\n",
              "      <td>-1.0</td>\n",
              "      <td>11.0</td>\n",
              "      <td>35.0</td>\n",
              "      <td>235.0</td>\n",
              "      <td>215.0</td>\n",
              "      <td>199.0</td>\n",
              "      <td>1448</td>\n",
              "      <td>254.0</td>\n",
              "      <td>5.0</td>\n",
              "      <td>320</td>\n",
              "      <td>259.0</td>\n",
              "      <td>-21.0</td>\n",
              "      <td>2015-01-01</td>\n",
              "      <td>Alaska Airlines Inc.</td>\n",
              "    </tr>\n",
              "    <tr>\n",
              "      <th>2</th>\n",
              "      <td>4</td>\n",
              "      <td>AS</td>\n",
              "      <td>108</td>\n",
              "      <td>N309AS</td>\n",
              "      <td>ANC</td>\n",
              "      <td>SEA</td>\n",
              "      <td>45</td>\n",
              "      <td>41.0</td>\n",
              "      <td>-4.0</td>\n",
              "      <td>17.0</td>\n",
              "      <td>58.0</td>\n",
              "      <td>204.0</td>\n",
              "      <td>194.0</td>\n",
              "      <td>173.0</td>\n",
              "      <td>1448</td>\n",
              "      <td>451.0</td>\n",
              "      <td>4.0</td>\n",
              "      <td>509</td>\n",
              "      <td>455.0</td>\n",
              "      <td>-14.0</td>\n",
              "      <td>2015-01-01</td>\n",
              "      <td>Alaska Airlines Inc.</td>\n",
              "    </tr>\n",
              "    <tr>\n",
              "      <th>3</th>\n",
              "      <td>4</td>\n",
              "      <td>AS</td>\n",
              "      <td>122</td>\n",
              "      <td>N413AS</td>\n",
              "      <td>ANC</td>\n",
              "      <td>PDX</td>\n",
              "      <td>50</td>\n",
              "      <td>46.0</td>\n",
              "      <td>-4.0</td>\n",
              "      <td>11.0</td>\n",
              "      <td>57.0</td>\n",
              "      <td>215.0</td>\n",
              "      <td>201.0</td>\n",
              "      <td>187.0</td>\n",
              "      <td>1542</td>\n",
              "      <td>504.0</td>\n",
              "      <td>3.0</td>\n",
              "      <td>525</td>\n",
              "      <td>507.0</td>\n",
              "      <td>-18.0</td>\n",
              "      <td>2015-01-01</td>\n",
              "      <td>Alaska Airlines Inc.</td>\n",
              "    </tr>\n",
              "    <tr>\n",
              "      <th>4</th>\n",
              "      <td>4</td>\n",
              "      <td>AS</td>\n",
              "      <td>130</td>\n",
              "      <td>N457AS</td>\n",
              "      <td>FAI</td>\n",
              "      <td>SEA</td>\n",
              "      <td>115</td>\n",
              "      <td>107.0</td>\n",
              "      <td>-8.0</td>\n",
              "      <td>25.0</td>\n",
              "      <td>132.0</td>\n",
              "      <td>213.0</td>\n",
              "      <td>218.0</td>\n",
              "      <td>186.0</td>\n",
              "      <td>1533</td>\n",
              "      <td>538.0</td>\n",
              "      <td>7.0</td>\n",
              "      <td>548</td>\n",
              "      <td>545.0</td>\n",
              "      <td>-3.0</td>\n",
              "      <td>2015-01-01</td>\n",
              "      <td>Alaska Airlines Inc.</td>\n",
              "    </tr>\n",
              "  </tbody>\n",
              "</table>\n",
              "</div>"
            ],
            "text/plain": [
              "   DAY_OF_WEEK AIRLINE  ...       DATE          AIRLINE_NAME\n",
              "0            4      AS  ... 2015-01-01  Alaska Airlines Inc.\n",
              "1            4      AS  ... 2015-01-01  Alaska Airlines Inc.\n",
              "2            4      AS  ... 2015-01-01  Alaska Airlines Inc.\n",
              "3            4      AS  ... 2015-01-01  Alaska Airlines Inc.\n",
              "4            4      AS  ... 2015-01-01  Alaska Airlines Inc.\n",
              "\n",
              "[5 rows x 22 columns]"
            ]
          },
          "metadata": {},
          "execution_count": 18
        }
      ]
    },
    {
      "cell_type": "code",
      "metadata": {
        "colab": {
          "base_uri": "https://localhost:8080/",
          "height": 204
        },
        "id": "04yhfzgqV2m0",
        "outputId": "5e768492-a57e-49fe-8ed3-2227cf314b7a"
      },
      "source": [
        "airports.head()"
      ],
      "execution_count": 19,
      "outputs": [
        {
          "output_type": "execute_result",
          "data": {
            "text/html": [
              "<div>\n",
              "<style scoped>\n",
              "    .dataframe tbody tr th:only-of-type {\n",
              "        vertical-align: middle;\n",
              "    }\n",
              "\n",
              "    .dataframe tbody tr th {\n",
              "        vertical-align: top;\n",
              "    }\n",
              "\n",
              "    .dataframe thead th {\n",
              "        text-align: right;\n",
              "    }\n",
              "</style>\n",
              "<table border=\"1\" class=\"dataframe\">\n",
              "  <thead>\n",
              "    <tr style=\"text-align: right;\">\n",
              "      <th></th>\n",
              "      <th>IATA_CODE</th>\n",
              "      <th>AIRPORT</th>\n",
              "      <th>CITY</th>\n",
              "      <th>STATE</th>\n",
              "      <th>COUNTRY</th>\n",
              "      <th>LATITUDE</th>\n",
              "      <th>LONGITUDE</th>\n",
              "    </tr>\n",
              "  </thead>\n",
              "  <tbody>\n",
              "    <tr>\n",
              "      <th>0</th>\n",
              "      <td>ABE</td>\n",
              "      <td>Lehigh Valley International Airport</td>\n",
              "      <td>Allentown</td>\n",
              "      <td>PA</td>\n",
              "      <td>USA</td>\n",
              "      <td>40.65236</td>\n",
              "      <td>-75.44040</td>\n",
              "    </tr>\n",
              "    <tr>\n",
              "      <th>1</th>\n",
              "      <td>ABI</td>\n",
              "      <td>Abilene Regional Airport</td>\n",
              "      <td>Abilene</td>\n",
              "      <td>TX</td>\n",
              "      <td>USA</td>\n",
              "      <td>32.41132</td>\n",
              "      <td>-99.68190</td>\n",
              "    </tr>\n",
              "    <tr>\n",
              "      <th>2</th>\n",
              "      <td>ABQ</td>\n",
              "      <td>Albuquerque International Sunport</td>\n",
              "      <td>Albuquerque</td>\n",
              "      <td>NM</td>\n",
              "      <td>USA</td>\n",
              "      <td>35.04022</td>\n",
              "      <td>-106.60919</td>\n",
              "    </tr>\n",
              "    <tr>\n",
              "      <th>3</th>\n",
              "      <td>ABR</td>\n",
              "      <td>Aberdeen Regional Airport</td>\n",
              "      <td>Aberdeen</td>\n",
              "      <td>SD</td>\n",
              "      <td>USA</td>\n",
              "      <td>45.44906</td>\n",
              "      <td>-98.42183</td>\n",
              "    </tr>\n",
              "    <tr>\n",
              "      <th>4</th>\n",
              "      <td>ABY</td>\n",
              "      <td>Southwest Georgia Regional Airport</td>\n",
              "      <td>Albany</td>\n",
              "      <td>GA</td>\n",
              "      <td>USA</td>\n",
              "      <td>31.53552</td>\n",
              "      <td>-84.19447</td>\n",
              "    </tr>\n",
              "  </tbody>\n",
              "</table>\n",
              "</div>"
            ],
            "text/plain": [
              "  IATA_CODE                              AIRPORT  ...  LATITUDE  LONGITUDE\n",
              "0       ABE  Lehigh Valley International Airport  ...  40.65236  -75.44040\n",
              "1       ABI             Abilene Regional Airport  ...  32.41132  -99.68190\n",
              "2       ABQ    Albuquerque International Sunport  ...  35.04022 -106.60919\n",
              "3       ABR            Aberdeen Regional Airport  ...  45.44906  -98.42183\n",
              "4       ABY   Southwest Georgia Regional Airport  ...  31.53552  -84.19447\n",
              "\n",
              "[5 rows x 7 columns]"
            ]
          },
          "metadata": {},
          "execution_count": 19
        }
      ]
    },
    {
      "cell_type": "code",
      "metadata": {
        "id": "XTtNcSbpV2m0"
      },
      "source": [
        "airports = airports.rename(columns={'IATA_CODE' : 'AIRPORT_CODE'})"
      ],
      "execution_count": 20,
      "outputs": []
    },
    {
      "cell_type": "code",
      "metadata": {
        "id": "LbadP1ZWV2m1"
      },
      "source": [
        "airports = airports.dropna(subset = ['LATITUDE','LONGITUDE'])"
      ],
      "execution_count": 21,
      "outputs": []
    },
    {
      "cell_type": "code",
      "metadata": {
        "id": "WbPXCB06V2m1"
      },
      "source": [
        "# Zmiana wyświetlania zmiennych godzinowych\n",
        "def conv_time(time_val):\n",
        "    if pd.isnull(time_val):\n",
        "        return np.nan\n",
        "    else:\n",
        "            # 24:00 na 00:00:\n",
        "        if time_val == 2400: time_val = 0\n",
        "        time_val = \"{0:04d}\".format(int(time_val))\n",
        "        time_formatted = datetime.time(int(time_val[0:2]), int(time_val[2:4]))\n",
        "    return time_formatted"
      ],
      "execution_count": 22,
      "outputs": []
    },
    {
      "cell_type": "code",
      "metadata": {
        "id": "6NDRNRcyV2m2"
      },
      "source": [
        "flights['DEPARTURE_TIME'] = flights['DEPARTURE_TIME'].apply(conv_time)\n",
        "flights['SCHEDULED_DEPARTURE'] = flights['SCHEDULED_DEPARTURE'].apply(conv_time)\n",
        "flights['WHEELS_OFF'] = flights['WHEELS_OFF'].apply(conv_time)\n",
        "flights['WHEELS_ON'] = flights['WHEELS_ON'].apply(conv_time)\n",
        "flights['SCHEDULED_ARRIVAL'] = flights['SCHEDULED_ARRIVAL'].apply(conv_time)"
      ],
      "execution_count": 23,
      "outputs": []
    },
    {
      "cell_type": "code",
      "metadata": {
        "id": "B9uOmxmlV2m3"
      },
      "source": [
        "#zmiana nazw kolumn, merge danych"
      ],
      "execution_count": 24,
      "outputs": []
    },
    {
      "cell_type": "code",
      "metadata": {
        "id": "-Y7es4x8V2m3"
      },
      "source": [
        "origin_airport = airports[['AIRPORT_CODE', 'AIRPORT', 'CITY', 'STATE', 'COUNTRY', 'LATITUDE', 'LONGITUDE']].copy()"
      ],
      "execution_count": 25,
      "outputs": []
    },
    {
      "cell_type": "code",
      "metadata": {
        "id": "mqOYuMu2V2m4"
      },
      "source": [
        "origin_airport = origin_airport.rename(columns={'AIRPORT_CODE' : 'ORIGIN_AIRPORT_CODE', 'AIRPORT' : 'ORIGIN_AIRPORT', 'CITY' : 'ORIGIN_AIRPORT_CITY', 'STATE' : 'ORIGIN_AIRPORT_STATE', 'COUNTRY' : 'ORIGIN_AIRPORT_COUNTRY', 'LATITUDE' : 'ORIGIN_AIRPORT_LATITUDE', 'LONGITUDE' : 'ORIGIN_AIRPORT_LONGITUDE'})"
      ],
      "execution_count": 26,
      "outputs": []
    },
    {
      "cell_type": "code",
      "metadata": {
        "id": "yjMwvHaLV2m4"
      },
      "source": [
        "destination_airport = airports[['AIRPORT_CODE', 'AIRPORT', 'CITY', 'STATE', 'COUNTRY', 'LATITUDE', 'LONGITUDE']].copy()"
      ],
      "execution_count": 27,
      "outputs": []
    },
    {
      "cell_type": "code",
      "metadata": {
        "id": "c6Ia3vIyV2m5"
      },
      "source": [
        "destination_airport = destination_airport.rename(columns={'AIRPORT_CODE' : 'DESTINATION_AIRPORT_CODE', 'AIRPORT' : 'DESTINATION_AIRPORT', 'CITY' : 'DESTINATION_AIRPORT_CITY', 'STATE' : 'DESTINATION_AIRPORT_STATE', 'COUNTRY' : 'DESTINATION_AIRPORT_COUNTRY', 'LATITUDE' : 'DESTINATION_AIRPORT_LATITUDE', 'LONGITUDE' : 'DESTINATION_AIRPORT_LONGITUDE'})"
      ],
      "execution_count": 28,
      "outputs": []
    },
    {
      "cell_type": "code",
      "metadata": {
        "colab": {
          "base_uri": "https://localhost:8080/",
          "height": 610
        },
        "id": "rsBDvcniV2m5",
        "outputId": "7b18c848-dd0b-4322-c3b1-7d1c7265854e"
      },
      "source": [
        "flights_3= flights_2.rename(columns={'AIRLINE' : 'AIRLINE_CODE', 'ORIGIN_AIRPORT' : 'ORIGIN_AIRPORT_CODE', 'DESTINATION_AIRPORT' : 'DESTINATION_AIRPORT_CODE'})\n",
        "flights_3"
      ],
      "execution_count": 29,
      "outputs": [
        {
          "output_type": "execute_result",
          "data": {
            "text/html": [
              "<div>\n",
              "<style scoped>\n",
              "    .dataframe tbody tr th:only-of-type {\n",
              "        vertical-align: middle;\n",
              "    }\n",
              "\n",
              "    .dataframe tbody tr th {\n",
              "        vertical-align: top;\n",
              "    }\n",
              "\n",
              "    .dataframe thead th {\n",
              "        text-align: right;\n",
              "    }\n",
              "</style>\n",
              "<table border=\"1\" class=\"dataframe\">\n",
              "  <thead>\n",
              "    <tr style=\"text-align: right;\">\n",
              "      <th></th>\n",
              "      <th>DAY_OF_WEEK</th>\n",
              "      <th>AIRLINE_CODE</th>\n",
              "      <th>FLIGHT_NUMBER</th>\n",
              "      <th>TAIL_NUMBER</th>\n",
              "      <th>ORIGIN_AIRPORT_CODE</th>\n",
              "      <th>DESTINATION_AIRPORT_CODE</th>\n",
              "      <th>SCHEDULED_DEPARTURE</th>\n",
              "      <th>DEPARTURE_TIME</th>\n",
              "      <th>DEPARTURE_DELAY</th>\n",
              "      <th>TAXI_OUT</th>\n",
              "      <th>WHEELS_OFF</th>\n",
              "      <th>SCHEDULED_TIME</th>\n",
              "      <th>ELAPSED_TIME</th>\n",
              "      <th>AIR_TIME</th>\n",
              "      <th>DISTANCE</th>\n",
              "      <th>WHEELS_ON</th>\n",
              "      <th>TAXI_IN</th>\n",
              "      <th>SCHEDULED_ARRIVAL</th>\n",
              "      <th>ARRIVAL_TIME</th>\n",
              "      <th>ARRIVAL_DELAY</th>\n",
              "      <th>DATE</th>\n",
              "      <th>AIRLINE_NAME</th>\n",
              "    </tr>\n",
              "  </thead>\n",
              "  <tbody>\n",
              "    <tr>\n",
              "      <th>0</th>\n",
              "      <td>4</td>\n",
              "      <td>AS</td>\n",
              "      <td>98</td>\n",
              "      <td>N407AS</td>\n",
              "      <td>ANC</td>\n",
              "      <td>SEA</td>\n",
              "      <td>5</td>\n",
              "      <td>2354.0</td>\n",
              "      <td>-11.0</td>\n",
              "      <td>21.0</td>\n",
              "      <td>15.0</td>\n",
              "      <td>205.0</td>\n",
              "      <td>194.0</td>\n",
              "      <td>169.0</td>\n",
              "      <td>1448</td>\n",
              "      <td>404.0</td>\n",
              "      <td>4.0</td>\n",
              "      <td>430</td>\n",
              "      <td>408.0</td>\n",
              "      <td>-22.0</td>\n",
              "      <td>2015-01-01</td>\n",
              "      <td>Alaska Airlines Inc.</td>\n",
              "    </tr>\n",
              "    <tr>\n",
              "      <th>1</th>\n",
              "      <td>4</td>\n",
              "      <td>AS</td>\n",
              "      <td>135</td>\n",
              "      <td>N527AS</td>\n",
              "      <td>SEA</td>\n",
              "      <td>ANC</td>\n",
              "      <td>25</td>\n",
              "      <td>24.0</td>\n",
              "      <td>-1.0</td>\n",
              "      <td>11.0</td>\n",
              "      <td>35.0</td>\n",
              "      <td>235.0</td>\n",
              "      <td>215.0</td>\n",
              "      <td>199.0</td>\n",
              "      <td>1448</td>\n",
              "      <td>254.0</td>\n",
              "      <td>5.0</td>\n",
              "      <td>320</td>\n",
              "      <td>259.0</td>\n",
              "      <td>-21.0</td>\n",
              "      <td>2015-01-01</td>\n",
              "      <td>Alaska Airlines Inc.</td>\n",
              "    </tr>\n",
              "    <tr>\n",
              "      <th>2</th>\n",
              "      <td>4</td>\n",
              "      <td>AS</td>\n",
              "      <td>108</td>\n",
              "      <td>N309AS</td>\n",
              "      <td>ANC</td>\n",
              "      <td>SEA</td>\n",
              "      <td>45</td>\n",
              "      <td>41.0</td>\n",
              "      <td>-4.0</td>\n",
              "      <td>17.0</td>\n",
              "      <td>58.0</td>\n",
              "      <td>204.0</td>\n",
              "      <td>194.0</td>\n",
              "      <td>173.0</td>\n",
              "      <td>1448</td>\n",
              "      <td>451.0</td>\n",
              "      <td>4.0</td>\n",
              "      <td>509</td>\n",
              "      <td>455.0</td>\n",
              "      <td>-14.0</td>\n",
              "      <td>2015-01-01</td>\n",
              "      <td>Alaska Airlines Inc.</td>\n",
              "    </tr>\n",
              "    <tr>\n",
              "      <th>3</th>\n",
              "      <td>4</td>\n",
              "      <td>AS</td>\n",
              "      <td>122</td>\n",
              "      <td>N413AS</td>\n",
              "      <td>ANC</td>\n",
              "      <td>PDX</td>\n",
              "      <td>50</td>\n",
              "      <td>46.0</td>\n",
              "      <td>-4.0</td>\n",
              "      <td>11.0</td>\n",
              "      <td>57.0</td>\n",
              "      <td>215.0</td>\n",
              "      <td>201.0</td>\n",
              "      <td>187.0</td>\n",
              "      <td>1542</td>\n",
              "      <td>504.0</td>\n",
              "      <td>3.0</td>\n",
              "      <td>525</td>\n",
              "      <td>507.0</td>\n",
              "      <td>-18.0</td>\n",
              "      <td>2015-01-01</td>\n",
              "      <td>Alaska Airlines Inc.</td>\n",
              "    </tr>\n",
              "    <tr>\n",
              "      <th>4</th>\n",
              "      <td>4</td>\n",
              "      <td>AS</td>\n",
              "      <td>130</td>\n",
              "      <td>N457AS</td>\n",
              "      <td>FAI</td>\n",
              "      <td>SEA</td>\n",
              "      <td>115</td>\n",
              "      <td>107.0</td>\n",
              "      <td>-8.0</td>\n",
              "      <td>25.0</td>\n",
              "      <td>132.0</td>\n",
              "      <td>213.0</td>\n",
              "      <td>218.0</td>\n",
              "      <td>186.0</td>\n",
              "      <td>1533</td>\n",
              "      <td>538.0</td>\n",
              "      <td>7.0</td>\n",
              "      <td>548</td>\n",
              "      <td>545.0</td>\n",
              "      <td>-3.0</td>\n",
              "      <td>2015-01-01</td>\n",
              "      <td>Alaska Airlines Inc.</td>\n",
              "    </tr>\n",
              "    <tr>\n",
              "      <th>...</th>\n",
              "      <td>...</td>\n",
              "      <td>...</td>\n",
              "      <td>...</td>\n",
              "      <td>...</td>\n",
              "      <td>...</td>\n",
              "      <td>...</td>\n",
              "      <td>...</td>\n",
              "      <td>...</td>\n",
              "      <td>...</td>\n",
              "      <td>...</td>\n",
              "      <td>...</td>\n",
              "      <td>...</td>\n",
              "      <td>...</td>\n",
              "      <td>...</td>\n",
              "      <td>...</td>\n",
              "      <td>...</td>\n",
              "      <td>...</td>\n",
              "      <td>...</td>\n",
              "      <td>...</td>\n",
              "      <td>...</td>\n",
              "      <td>...</td>\n",
              "      <td>...</td>\n",
              "    </tr>\n",
              "    <tr>\n",
              "      <th>5714003</th>\n",
              "      <td>4</td>\n",
              "      <td>VX</td>\n",
              "      <td>769</td>\n",
              "      <td>N622VA</td>\n",
              "      <td>LGA</td>\n",
              "      <td>DAL</td>\n",
              "      <td>1855</td>\n",
              "      <td>1847.0</td>\n",
              "      <td>-8.0</td>\n",
              "      <td>10.0</td>\n",
              "      <td>1857.0</td>\n",
              "      <td>245.0</td>\n",
              "      <td>247.0</td>\n",
              "      <td>231.0</td>\n",
              "      <td>1381</td>\n",
              "      <td>2148.0</td>\n",
              "      <td>6.0</td>\n",
              "      <td>2200</td>\n",
              "      <td>2154.0</td>\n",
              "      <td>-6.0</td>\n",
              "      <td>2015-12-31</td>\n",
              "      <td>Virgin America</td>\n",
              "    </tr>\n",
              "    <tr>\n",
              "      <th>5714004</th>\n",
              "      <td>4</td>\n",
              "      <td>VX</td>\n",
              "      <td>357</td>\n",
              "      <td>N284VA</td>\n",
              "      <td>BOS</td>\n",
              "      <td>SFO</td>\n",
              "      <td>1859</td>\n",
              "      <td>1849.0</td>\n",
              "      <td>-10.0</td>\n",
              "      <td>12.0</td>\n",
              "      <td>1901.0</td>\n",
              "      <td>411.0</td>\n",
              "      <td>375.0</td>\n",
              "      <td>357.0</td>\n",
              "      <td>2704</td>\n",
              "      <td>2158.0</td>\n",
              "      <td>6.0</td>\n",
              "      <td>2250</td>\n",
              "      <td>2204.0</td>\n",
              "      <td>-46.0</td>\n",
              "      <td>2015-12-31</td>\n",
              "      <td>Virgin America</td>\n",
              "    </tr>\n",
              "    <tr>\n",
              "      <th>5714005</th>\n",
              "      <td>4</td>\n",
              "      <td>VX</td>\n",
              "      <td>1916</td>\n",
              "      <td>N853VA</td>\n",
              "      <td>SFO</td>\n",
              "      <td>LAS</td>\n",
              "      <td>1940</td>\n",
              "      <td>1933.0</td>\n",
              "      <td>-7.0</td>\n",
              "      <td>10.0</td>\n",
              "      <td>1943.0</td>\n",
              "      <td>90.0</td>\n",
              "      <td>79.0</td>\n",
              "      <td>58.0</td>\n",
              "      <td>414</td>\n",
              "      <td>2041.0</td>\n",
              "      <td>11.0</td>\n",
              "      <td>2110</td>\n",
              "      <td>2052.0</td>\n",
              "      <td>-18.0</td>\n",
              "      <td>2015-12-31</td>\n",
              "      <td>Virgin America</td>\n",
              "    </tr>\n",
              "    <tr>\n",
              "      <th>5714006</th>\n",
              "      <td>4</td>\n",
              "      <td>VX</td>\n",
              "      <td>490</td>\n",
              "      <td>N840VA</td>\n",
              "      <td>LAX</td>\n",
              "      <td>LAS</td>\n",
              "      <td>1950</td>\n",
              "      <td>1948.0</td>\n",
              "      <td>-2.0</td>\n",
              "      <td>7.0</td>\n",
              "      <td>1955.0</td>\n",
              "      <td>65.0</td>\n",
              "      <td>56.0</td>\n",
              "      <td>39.0</td>\n",
              "      <td>236</td>\n",
              "      <td>2034.0</td>\n",
              "      <td>10.0</td>\n",
              "      <td>2055</td>\n",
              "      <td>2044.0</td>\n",
              "      <td>-11.0</td>\n",
              "      <td>2015-12-31</td>\n",
              "      <td>Virgin America</td>\n",
              "    </tr>\n",
              "    <tr>\n",
              "      <th>5714007</th>\n",
              "      <td>4</td>\n",
              "      <td>VX</td>\n",
              "      <td>48</td>\n",
              "      <td>N281VA</td>\n",
              "      <td>OGG</td>\n",
              "      <td>SFO</td>\n",
              "      <td>2320</td>\n",
              "      <td>2318.0</td>\n",
              "      <td>-2.0</td>\n",
              "      <td>7.0</td>\n",
              "      <td>2325.0</td>\n",
              "      <td>305.0</td>\n",
              "      <td>270.0</td>\n",
              "      <td>258.0</td>\n",
              "      <td>2338</td>\n",
              "      <td>543.0</td>\n",
              "      <td>5.0</td>\n",
              "      <td>625</td>\n",
              "      <td>548.0</td>\n",
              "      <td>-37.0</td>\n",
              "      <td>2015-12-31</td>\n",
              "      <td>Virgin America</td>\n",
              "    </tr>\n",
              "  </tbody>\n",
              "</table>\n",
              "<p>5714008 rows × 22 columns</p>\n",
              "</div>"
            ],
            "text/plain": [
              "         DAY_OF_WEEK AIRLINE_CODE  ...       DATE          AIRLINE_NAME\n",
              "0                  4           AS  ... 2015-01-01  Alaska Airlines Inc.\n",
              "1                  4           AS  ... 2015-01-01  Alaska Airlines Inc.\n",
              "2                  4           AS  ... 2015-01-01  Alaska Airlines Inc.\n",
              "3                  4           AS  ... 2015-01-01  Alaska Airlines Inc.\n",
              "4                  4           AS  ... 2015-01-01  Alaska Airlines Inc.\n",
              "...              ...          ...  ...        ...                   ...\n",
              "5714003            4           VX  ... 2015-12-31        Virgin America\n",
              "5714004            4           VX  ... 2015-12-31        Virgin America\n",
              "5714005            4           VX  ... 2015-12-31        Virgin America\n",
              "5714006            4           VX  ... 2015-12-31        Virgin America\n",
              "5714007            4           VX  ... 2015-12-31        Virgin America\n",
              "\n",
              "[5714008 rows x 22 columns]"
            ]
          },
          "metadata": {},
          "execution_count": 29
        }
      ]
    },
    {
      "cell_type": "code",
      "metadata": {
        "id": "lphdUb71V2m6"
      },
      "source": [
        "flights_3 = flights_3.merge(origin_airport, how='right')"
      ],
      "execution_count": 30,
      "outputs": []
    },
    {
      "cell_type": "code",
      "metadata": {
        "id": "qiCeLcYkV2m6"
      },
      "source": [
        "flights_3 = flights_3.merge(destination_airport, how='right')"
      ],
      "execution_count": 31,
      "outputs": []
    },
    {
      "cell_type": "code",
      "metadata": {
        "colab": {
          "base_uri": "https://localhost:8080/"
        },
        "id": "qodXm6_6V2m6",
        "outputId": "245b3288-10ff-4cc7-9939-7217ffdf660f"
      },
      "source": [
        "flights_3.columns"
      ],
      "execution_count": 32,
      "outputs": [
        {
          "output_type": "execute_result",
          "data": {
            "text/plain": [
              "Index(['DAY_OF_WEEK', 'AIRLINE_CODE', 'FLIGHT_NUMBER', 'TAIL_NUMBER',\n",
              "       'ORIGIN_AIRPORT_CODE', 'DESTINATION_AIRPORT_CODE',\n",
              "       'SCHEDULED_DEPARTURE', 'DEPARTURE_TIME', 'DEPARTURE_DELAY', 'TAXI_OUT',\n",
              "       'WHEELS_OFF', 'SCHEDULED_TIME', 'ELAPSED_TIME', 'AIR_TIME', 'DISTANCE',\n",
              "       'WHEELS_ON', 'TAXI_IN', 'SCHEDULED_ARRIVAL', 'ARRIVAL_TIME',\n",
              "       'ARRIVAL_DELAY', 'DATE', 'AIRLINE_NAME', 'ORIGIN_AIRPORT',\n",
              "       'ORIGIN_AIRPORT_CITY', 'ORIGIN_AIRPORT_STATE', 'ORIGIN_AIRPORT_COUNTRY',\n",
              "       'ORIGIN_AIRPORT_LATITUDE', 'ORIGIN_AIRPORT_LONGITUDE',\n",
              "       'DESTINATION_AIRPORT', 'DESTINATION_AIRPORT_CITY',\n",
              "       'DESTINATION_AIRPORT_STATE', 'DESTINATION_AIRPORT_COUNTRY',\n",
              "       'DESTINATION_AIRPORT_LATITUDE', 'DESTINATION_AIRPORT_LONGITUDE'],\n",
              "      dtype='object')"
            ]
          },
          "metadata": {},
          "execution_count": 32
        }
      ]
    },
    {
      "cell_type": "code",
      "metadata": {
        "id": "1SoPGvMAV2m7"
      },
      "source": [
        "flights_3 = flights_3.drop(['DESTINATION_AIRPORT_STATE', 'DESTINATION_AIRPORT_COUNTRY', \n",
        "                            'DESTINATION_AIRPORT_LATITUDE', 'DESTINATION_AIRPORT_LONGITUDE',\n",
        "                            'ORIGIN_AIRPORT_STATE','ORIGIN_AIRPORT_COUNTRY', 'ORIGIN_AIRPORT_LATITUDE', 'ORIGIN_AIRPORT_LONGITUDE'], axis=1)"
      ],
      "execution_count": 33,
      "outputs": []
    },
    {
      "cell_type": "code",
      "metadata": {
        "colab": {
          "base_uri": "https://localhost:8080/",
          "height": 480
        },
        "id": "iW58etbJV2m8",
        "outputId": "686a2164-9f17-43f2-9b9f-7d62114dd624"
      },
      "source": [
        "flights_3.head()"
      ],
      "execution_count": 34,
      "outputs": [
        {
          "output_type": "execute_result",
          "data": {
            "text/html": [
              "<div>\n",
              "<style scoped>\n",
              "    .dataframe tbody tr th:only-of-type {\n",
              "        vertical-align: middle;\n",
              "    }\n",
              "\n",
              "    .dataframe tbody tr th {\n",
              "        vertical-align: top;\n",
              "    }\n",
              "\n",
              "    .dataframe thead th {\n",
              "        text-align: right;\n",
              "    }\n",
              "</style>\n",
              "<table border=\"1\" class=\"dataframe\">\n",
              "  <thead>\n",
              "    <tr style=\"text-align: right;\">\n",
              "      <th></th>\n",
              "      <th>DAY_OF_WEEK</th>\n",
              "      <th>AIRLINE_CODE</th>\n",
              "      <th>FLIGHT_NUMBER</th>\n",
              "      <th>TAIL_NUMBER</th>\n",
              "      <th>ORIGIN_AIRPORT_CODE</th>\n",
              "      <th>DESTINATION_AIRPORT_CODE</th>\n",
              "      <th>SCHEDULED_DEPARTURE</th>\n",
              "      <th>DEPARTURE_TIME</th>\n",
              "      <th>DEPARTURE_DELAY</th>\n",
              "      <th>TAXI_OUT</th>\n",
              "      <th>WHEELS_OFF</th>\n",
              "      <th>SCHEDULED_TIME</th>\n",
              "      <th>ELAPSED_TIME</th>\n",
              "      <th>AIR_TIME</th>\n",
              "      <th>DISTANCE</th>\n",
              "      <th>WHEELS_ON</th>\n",
              "      <th>TAXI_IN</th>\n",
              "      <th>SCHEDULED_ARRIVAL</th>\n",
              "      <th>ARRIVAL_TIME</th>\n",
              "      <th>ARRIVAL_DELAY</th>\n",
              "      <th>DATE</th>\n",
              "      <th>AIRLINE_NAME</th>\n",
              "      <th>ORIGIN_AIRPORT</th>\n",
              "      <th>ORIGIN_AIRPORT_CITY</th>\n",
              "      <th>DESTINATION_AIRPORT</th>\n",
              "      <th>DESTINATION_AIRPORT_CITY</th>\n",
              "    </tr>\n",
              "  </thead>\n",
              "  <tbody>\n",
              "    <tr>\n",
              "      <th>0</th>\n",
              "      <td>7</td>\n",
              "      <td>DL</td>\n",
              "      <td>2036</td>\n",
              "      <td>N979AT</td>\n",
              "      <td>ATL</td>\n",
              "      <td>ABE</td>\n",
              "      <td>2101</td>\n",
              "      <td>2101.0</td>\n",
              "      <td>0.0</td>\n",
              "      <td>22.0</td>\n",
              "      <td>2123.0</td>\n",
              "      <td>110.0</td>\n",
              "      <td>111.0</td>\n",
              "      <td>85.0</td>\n",
              "      <td>692</td>\n",
              "      <td>2248.0</td>\n",
              "      <td>4.0</td>\n",
              "      <td>2251</td>\n",
              "      <td>2252.0</td>\n",
              "      <td>1.0</td>\n",
              "      <td>2015-01-04</td>\n",
              "      <td>Delta Air Lines Inc.</td>\n",
              "      <td>Hartsfield-Jackson Atlanta International Airport</td>\n",
              "      <td>Atlanta</td>\n",
              "      <td>Lehigh Valley International Airport</td>\n",
              "      <td>Allentown</td>\n",
              "    </tr>\n",
              "    <tr>\n",
              "      <th>1</th>\n",
              "      <td>1</td>\n",
              "      <td>DL</td>\n",
              "      <td>1411</td>\n",
              "      <td>N989AT</td>\n",
              "      <td>ATL</td>\n",
              "      <td>ABE</td>\n",
              "      <td>2034</td>\n",
              "      <td>2032.0</td>\n",
              "      <td>-2.0</td>\n",
              "      <td>17.0</td>\n",
              "      <td>2049.0</td>\n",
              "      <td>111.0</td>\n",
              "      <td>115.0</td>\n",
              "      <td>93.0</td>\n",
              "      <td>692</td>\n",
              "      <td>2222.0</td>\n",
              "      <td>5.0</td>\n",
              "      <td>2225</td>\n",
              "      <td>2227.0</td>\n",
              "      <td>2.0</td>\n",
              "      <td>2015-01-05</td>\n",
              "      <td>Delta Air Lines Inc.</td>\n",
              "      <td>Hartsfield-Jackson Atlanta International Airport</td>\n",
              "      <td>Atlanta</td>\n",
              "      <td>Lehigh Valley International Airport</td>\n",
              "      <td>Allentown</td>\n",
              "    </tr>\n",
              "    <tr>\n",
              "      <th>2</th>\n",
              "      <td>2</td>\n",
              "      <td>DL</td>\n",
              "      <td>1411</td>\n",
              "      <td>N979AT</td>\n",
              "      <td>ATL</td>\n",
              "      <td>ABE</td>\n",
              "      <td>2034</td>\n",
              "      <td>2032.0</td>\n",
              "      <td>-2.0</td>\n",
              "      <td>12.0</td>\n",
              "      <td>2044.0</td>\n",
              "      <td>111.0</td>\n",
              "      <td>109.0</td>\n",
              "      <td>93.0</td>\n",
              "      <td>692</td>\n",
              "      <td>2217.0</td>\n",
              "      <td>4.0</td>\n",
              "      <td>2225</td>\n",
              "      <td>2221.0</td>\n",
              "      <td>-4.0</td>\n",
              "      <td>2015-01-06</td>\n",
              "      <td>Delta Air Lines Inc.</td>\n",
              "      <td>Hartsfield-Jackson Atlanta International Airport</td>\n",
              "      <td>Atlanta</td>\n",
              "      <td>Lehigh Valley International Airport</td>\n",
              "      <td>Allentown</td>\n",
              "    </tr>\n",
              "    <tr>\n",
              "      <th>3</th>\n",
              "      <td>3</td>\n",
              "      <td>DL</td>\n",
              "      <td>1411</td>\n",
              "      <td>N958AT</td>\n",
              "      <td>ATL</td>\n",
              "      <td>ABE</td>\n",
              "      <td>2034</td>\n",
              "      <td>2031.0</td>\n",
              "      <td>-3.0</td>\n",
              "      <td>14.0</td>\n",
              "      <td>2045.0</td>\n",
              "      <td>111.0</td>\n",
              "      <td>115.0</td>\n",
              "      <td>97.0</td>\n",
              "      <td>692</td>\n",
              "      <td>2222.0</td>\n",
              "      <td>4.0</td>\n",
              "      <td>2225</td>\n",
              "      <td>2226.0</td>\n",
              "      <td>1.0</td>\n",
              "      <td>2015-01-07</td>\n",
              "      <td>Delta Air Lines Inc.</td>\n",
              "      <td>Hartsfield-Jackson Atlanta International Airport</td>\n",
              "      <td>Atlanta</td>\n",
              "      <td>Lehigh Valley International Airport</td>\n",
              "      <td>Allentown</td>\n",
              "    </tr>\n",
              "    <tr>\n",
              "      <th>4</th>\n",
              "      <td>4</td>\n",
              "      <td>DL</td>\n",
              "      <td>1411</td>\n",
              "      <td>N994AT</td>\n",
              "      <td>ATL</td>\n",
              "      <td>ABE</td>\n",
              "      <td>2034</td>\n",
              "      <td>2030.0</td>\n",
              "      <td>-4.0</td>\n",
              "      <td>20.0</td>\n",
              "      <td>2050.0</td>\n",
              "      <td>111.0</td>\n",
              "      <td>113.0</td>\n",
              "      <td>89.0</td>\n",
              "      <td>692</td>\n",
              "      <td>2219.0</td>\n",
              "      <td>4.0</td>\n",
              "      <td>2225</td>\n",
              "      <td>2223.0</td>\n",
              "      <td>-2.0</td>\n",
              "      <td>2015-01-08</td>\n",
              "      <td>Delta Air Lines Inc.</td>\n",
              "      <td>Hartsfield-Jackson Atlanta International Airport</td>\n",
              "      <td>Atlanta</td>\n",
              "      <td>Lehigh Valley International Airport</td>\n",
              "      <td>Allentown</td>\n",
              "    </tr>\n",
              "  </tbody>\n",
              "</table>\n",
              "</div>"
            ],
            "text/plain": [
              "   DAY_OF_WEEK  ... DESTINATION_AIRPORT_CITY\n",
              "0            7  ...                Allentown\n",
              "1            1  ...                Allentown\n",
              "2            2  ...                Allentown\n",
              "3            3  ...                Allentown\n",
              "4            4  ...                Allentown\n",
              "\n",
              "[5 rows x 26 columns]"
            ]
          },
          "metadata": {},
          "execution_count": 34
        }
      ]
    },
    {
      "cell_type": "code",
      "metadata": {
        "id": "wHNAKmI9V2m8"
      },
      "source": [
        "#Kodowanie numeryczne zmiennych object"
      ],
      "execution_count": 35,
      "outputs": []
    },
    {
      "cell_type": "code",
      "metadata": {
        "id": "Ca6WYkM8V2m9"
      },
      "source": [
        "from sklearn.preprocessing import LabelEncoder\n",
        "le = LabelEncoder()"
      ],
      "execution_count": 36,
      "outputs": []
    },
    {
      "cell_type": "code",
      "metadata": {
        "id": "GDh8le4sV2m9"
      },
      "source": [
        "flights_3['AIRLINE_CODE']= le.fit_transform(flights_3['AIRLINE_CODE'])\n",
        "flights_3['ORIGIN_AIRPORT_CODE'] = le.fit_transform(flights_3['ORIGIN_AIRPORT_CODE'])\n",
        "flights_3['DESTINATION_AIRPORT_CODE'] = le.fit_transform(flights_3['DESTINATION_AIRPORT_CODE'])\n",
        "flights_3['TAIL_NUMBER']= le.fit_transform(flights_3['TAIL_NUMBER'])"
      ],
      "execution_count": 37,
      "outputs": []
    },
    {
      "cell_type": "code",
      "metadata": {
        "id": "nU6XUWzyV2m-"
      },
      "source": [
        "flights_3.drop(['AIRLINE_NAME','ORIGIN_AIRPORT','ORIGIN_AIRPORT_CITY','DESTINATION_AIRPORT','DESTINATION_AIRPORT_CITY','DATE'],axis=1, inplace= True)"
      ],
      "execution_count": 38,
      "outputs": []
    },
    {
      "cell_type": "code",
      "metadata": {
        "colab": {
          "base_uri": "https://localhost:8080/"
        },
        "id": "9gQtlll2V2m-",
        "outputId": "d837a5b7-5dee-4eae-de6a-c5295bc66ca2"
      },
      "source": [
        "flights_3.info()"
      ],
      "execution_count": 39,
      "outputs": [
        {
          "output_type": "stream",
          "name": "stdout",
          "text": [
            "<class 'pandas.core.frame.DataFrame'>\n",
            "Int64Index: 5222000 entries, 0 to 5221999\n",
            "Data columns (total 20 columns):\n",
            " #   Column                    Dtype  \n",
            "---  ------                    -----  \n",
            " 0   DAY_OF_WEEK               int64  \n",
            " 1   AIRLINE_CODE              int64  \n",
            " 2   FLIGHT_NUMBER             int64  \n",
            " 3   TAIL_NUMBER               int64  \n",
            " 4   ORIGIN_AIRPORT_CODE       int64  \n",
            " 5   DESTINATION_AIRPORT_CODE  int64  \n",
            " 6   SCHEDULED_DEPARTURE       int64  \n",
            " 7   DEPARTURE_TIME            float64\n",
            " 8   DEPARTURE_DELAY           float64\n",
            " 9   TAXI_OUT                  float64\n",
            " 10  WHEELS_OFF                float64\n",
            " 11  SCHEDULED_TIME            float64\n",
            " 12  ELAPSED_TIME              float64\n",
            " 13  AIR_TIME                  float64\n",
            " 14  DISTANCE                  int64  \n",
            " 15  WHEELS_ON                 float64\n",
            " 16  TAXI_IN                   float64\n",
            " 17  SCHEDULED_ARRIVAL         int64  \n",
            " 18  ARRIVAL_TIME              float64\n",
            " 19  ARRIVAL_DELAY             float64\n",
            "dtypes: float64(11), int64(9)\n",
            "memory usage: 836.7 MB\n"
          ]
        }
      ]
    },
    {
      "cell_type": "code",
      "metadata": {
        "id": "BArxmB75V2m-"
      },
      "source": [
        "flights_4 = flights_3.copy()"
      ],
      "execution_count": 40,
      "outputs": []
    },
    {
      "cell_type": "code",
      "metadata": {
        "id": "58QAV5uCV2m_"
      },
      "source": [
        "flights_4.drop(['SCHEDULED_DEPARTURE','DEPARTURE_TIME','SCHEDULED_ARRIVAL'],axis=1, inplace= True)"
      ],
      "execution_count": 41,
      "outputs": []
    },
    {
      "cell_type": "code",
      "metadata": {
        "id": "JQys1wayV2m_"
      },
      "source": [
        "flights_4.drop(['ARRIVAL_TIME'],axis=1, inplace= True)"
      ],
      "execution_count": 42,
      "outputs": []
    },
    {
      "cell_type": "code",
      "metadata": {
        "colab": {
          "base_uri": "https://localhost:8080/"
        },
        "id": "nKbhDPAWV2m_",
        "outputId": "7f53aeb4-c4df-4181-d45f-112a2c82c991"
      },
      "source": [
        "flights_4.info()"
      ],
      "execution_count": 43,
      "outputs": [
        {
          "output_type": "stream",
          "name": "stdout",
          "text": [
            "<class 'pandas.core.frame.DataFrame'>\n",
            "Int64Index: 5222000 entries, 0 to 5221999\n",
            "Data columns (total 16 columns):\n",
            " #   Column                    Dtype  \n",
            "---  ------                    -----  \n",
            " 0   DAY_OF_WEEK               int64  \n",
            " 1   AIRLINE_CODE              int64  \n",
            " 2   FLIGHT_NUMBER             int64  \n",
            " 3   TAIL_NUMBER               int64  \n",
            " 4   ORIGIN_AIRPORT_CODE       int64  \n",
            " 5   DESTINATION_AIRPORT_CODE  int64  \n",
            " 6   DEPARTURE_DELAY           float64\n",
            " 7   TAXI_OUT                  float64\n",
            " 8   WHEELS_OFF                float64\n",
            " 9   SCHEDULED_TIME            float64\n",
            " 10  ELAPSED_TIME              float64\n",
            " 11  AIR_TIME                  float64\n",
            " 12  DISTANCE                  int64  \n",
            " 13  WHEELS_ON                 float64\n",
            " 14  TAXI_IN                   float64\n",
            " 15  ARRIVAL_DELAY             float64\n",
            "dtypes: float64(9), int64(7)\n",
            "memory usage: 677.3 MB\n"
          ]
        }
      ]
    },
    {
      "cell_type": "code",
      "metadata": {
        "colab": {
          "base_uri": "https://localhost:8080/"
        },
        "id": "-quyagc1Mo2m",
        "outputId": "2e1481ed-ec00-46b9-a025-b99caa094969"
      },
      "source": [
        "corr = flights_4.corr()\n",
        "corr.replace(1, -1).max()"
      ],
      "execution_count": 44,
      "outputs": [
        {
          "output_type": "execute_result",
          "data": {
            "text/plain": [
              "DAY_OF_WEEK                 0.015948\n",
              "AIRLINE_CODE                0.094301\n",
              "FLIGHT_NUMBER               0.077456\n",
              "TAIL_NUMBER                 0.094301\n",
              "ORIGIN_AIRPORT_CODE         0.085863\n",
              "DESTINATION_AIRPORT_CODE    0.101811\n",
              "DEPARTURE_DELAY             0.945185\n",
              "TAXI_OUT                    0.228078\n",
              "WHEELS_OFF                  0.693019\n",
              "SCHEDULED_TIME              0.990659\n",
              "ELAPSED_TIME                0.989848\n",
              "AIR_TIME                    0.990659\n",
              "DISTANCE                    0.985354\n",
              "WHEELS_ON                   0.693019\n",
              "TAXI_IN                     0.154929\n",
              "ARRIVAL_DELAY               0.945185\n",
              "dtype: float64"
            ]
          },
          "metadata": {},
          "execution_count": 44
        }
      ]
    },
    {
      "cell_type": "code",
      "metadata": {
        "colab": {
          "base_uri": "https://localhost:8080/",
          "height": 749
        },
        "id": "Hc_L3wCkLzuM",
        "outputId": "d35764e8-1d1c-4c43-e185-5d61be9c1e7c"
      },
      "source": [
        "plt.figure(figsize=(20,10))\n",
        "sns.heatmap(corr, cmap=\"YlGnBu\")"
      ],
      "execution_count": 45,
      "outputs": [
        {
          "output_type": "execute_result",
          "data": {
            "text/plain": [
              "<matplotlib.axes._subplots.AxesSubplot at 0x7fc115504dd0>"
            ]
          },
          "metadata": {},
          "execution_count": 45
        },
        {
          "output_type": "display_data",
          "data": {
            "image/png": "[encoded data removed]",
            "text/plain": [
              "<Figure size 1440x720 with 2 Axes>"
            ]
          },
          "metadata": {
            "needs_background": "light"
          }
        }
      ]
    },
    {
      "cell_type": "code",
      "metadata": {
        "colab": {
          "base_uri": "https://localhost:8080/",
          "height": 566
        },
        "id": "JR0P06nVOH46",
        "outputId": "10caf9e1-3e14-4052-d429-7d0f50e83cdd"
      },
      "source": [
        "corr"
      ],
      "execution_count": 46,
      "outputs": [
        {
          "output_type": "execute_result",
          "data": {
            "text/html": [
              "<div>\n",
              "<style scoped>\n",
              "    .dataframe tbody tr th:only-of-type {\n",
              "        vertical-align: middle;\n",
              "    }\n",
              "\n",
              "    .dataframe tbody tr th {\n",
              "        vertical-align: top;\n",
              "    }\n",
              "\n",
              "    .dataframe thead th {\n",
              "        text-align: right;\n",
              "    }\n",
              "</style>\n",
              "<table border=\"1\" class=\"dataframe\">\n",
              "  <thead>\n",
              "    <tr style=\"text-align: right;\">\n",
              "      <th></th>\n",
              "      <th>DAY_OF_WEEK</th>\n",
              "      <th>AIRLINE_CODE</th>\n",
              "      <th>FLIGHT_NUMBER</th>\n",
              "      <th>TAIL_NUMBER</th>\n",
              "      <th>ORIGIN_AIRPORT_CODE</th>\n",
              "      <th>DESTINATION_AIRPORT_CODE</th>\n",
              "      <th>DEPARTURE_DELAY</th>\n",
              "      <th>TAXI_OUT</th>\n",
              "      <th>WHEELS_OFF</th>\n",
              "      <th>SCHEDULED_TIME</th>\n",
              "      <th>ELAPSED_TIME</th>\n",
              "      <th>AIR_TIME</th>\n",
              "      <th>DISTANCE</th>\n",
              "      <th>WHEELS_ON</th>\n",
              "      <th>TAXI_IN</th>\n",
              "      <th>ARRIVAL_DELAY</th>\n",
              "    </tr>\n",
              "  </thead>\n",
              "  <tbody>\n",
              "    <tr>\n",
              "      <th>DAY_OF_WEEK</th>\n",
              "      <td>1.000000</td>\n",
              "      <td>-0.005651</td>\n",
              "      <td>0.015488</td>\n",
              "      <td>-0.000240</td>\n",
              "      <td>0.004250</td>\n",
              "      <td>0.004411</td>\n",
              "      <td>-0.015044</td>\n",
              "      <td>-0.022319</td>\n",
              "      <td>0.004162</td>\n",
              "      <td>0.014650</td>\n",
              "      <td>0.011054</td>\n",
              "      <td>0.014116</td>\n",
              "      <td>0.015948</td>\n",
              "      <td>0.005950</td>\n",
              "      <td>0.000186</td>\n",
              "      <td>-0.021248</td>\n",
              "    </tr>\n",
              "    <tr>\n",
              "      <th>AIRLINE_CODE</th>\n",
              "      <td>-0.005651</td>\n",
              "      <td>1.000000</td>\n",
              "      <td>0.077456</td>\n",
              "      <td>0.094301</td>\n",
              "      <td>0.082701</td>\n",
              "      <td>0.082543</td>\n",
              "      <td>0.028838</td>\n",
              "      <td>-0.169275</td>\n",
              "      <td>0.010740</td>\n",
              "      <td>-0.106159</td>\n",
              "      <td>-0.111536</td>\n",
              "      <td>-0.087437</td>\n",
              "      <td>-0.083165</td>\n",
              "      <td>-0.008698</td>\n",
              "      <td>-0.078730</td>\n",
              "      <td>0.019896</td>\n",
              "    </tr>\n",
              "    <tr>\n",
              "      <th>FLIGHT_NUMBER</th>\n",
              "      <td>0.015488</td>\n",
              "      <td>0.077456</td>\n",
              "      <td>1.000000</td>\n",
              "      <td>0.015189</td>\n",
              "      <td>-0.011550</td>\n",
              "      <td>-0.011611</td>\n",
              "      <td>-0.008938</td>\n",
              "      <td>0.047680</td>\n",
              "      <td>0.005493</td>\n",
              "      <td>-0.317195</td>\n",
              "      <td>-0.307856</td>\n",
              "      <td>-0.320790</td>\n",
              "      <td>-0.330992</td>\n",
              "      <td>-0.005480</td>\n",
              "      <td>-0.019212</td>\n",
              "      <td>0.017523</td>\n",
              "    </tr>\n",
              "    <tr>\n",
              "      <th>TAIL_NUMBER</th>\n",
              "      <td>-0.000240</td>\n",
              "      <td>0.094301</td>\n",
              "      <td>0.015189</td>\n",
              "      <td>1.000000</td>\n",
              "      <td>-0.059025</td>\n",
              "      <td>-0.058938</td>\n",
              "      <td>-0.005778</td>\n",
              "      <td>0.008418</td>\n",
              "      <td>0.008557</td>\n",
              "      <td>-0.076288</td>\n",
              "      <td>-0.079334</td>\n",
              "      <td>-0.079819</td>\n",
              "      <td>-0.076144</td>\n",
              "      <td>0.000806</td>\n",
              "      <td>-0.035165</td>\n",
              "      <td>-0.009082</td>\n",
              "    </tr>\n",
              "    <tr>\n",
              "      <th>ORIGIN_AIRPORT_CODE</th>\n",
              "      <td>0.004250</td>\n",
              "      <td>0.082701</td>\n",
              "      <td>-0.011550</td>\n",
              "      <td>-0.059025</td>\n",
              "      <td>1.000000</td>\n",
              "      <td>0.018068</td>\n",
              "      <td>-0.006704</td>\n",
              "      <td>-0.041881</td>\n",
              "      <td>-0.032174</td>\n",
              "      <td>0.059026</td>\n",
              "      <td>0.062491</td>\n",
              "      <td>0.066301</td>\n",
              "      <td>0.085863</td>\n",
              "      <td>-0.004189</td>\n",
              "      <td>0.039799</td>\n",
              "      <td>-0.001406</td>\n",
              "    </tr>\n",
              "    <tr>\n",
              "      <th>DESTINATION_AIRPORT_CODE</th>\n",
              "      <td>0.004411</td>\n",
              "      <td>0.082543</td>\n",
              "      <td>-0.011611</td>\n",
              "      <td>-0.058938</td>\n",
              "      <td>0.018068</td>\n",
              "      <td>1.000000</td>\n",
              "      <td>0.001072</td>\n",
              "      <td>0.011825</td>\n",
              "      <td>0.029906</td>\n",
              "      <td>0.092866</td>\n",
              "      <td>0.095235</td>\n",
              "      <td>0.101811</td>\n",
              "      <td>0.086198</td>\n",
              "      <td>0.021627</td>\n",
              "      <td>-0.069010</td>\n",
              "      <td>0.002949</td>\n",
              "    </tr>\n",
              "    <tr>\n",
              "      <th>DEPARTURE_DELAY</th>\n",
              "      <td>-0.015044</td>\n",
              "      <td>0.028838</td>\n",
              "      <td>-0.008938</td>\n",
              "      <td>-0.005778</td>\n",
              "      <td>-0.006704</td>\n",
              "      <td>0.001072</td>\n",
              "      <td>1.000000</td>\n",
              "      <td>0.059168</td>\n",
              "      <td>0.165589</td>\n",
              "      <td>0.027224</td>\n",
              "      <td>0.030453</td>\n",
              "      <td>0.022909</td>\n",
              "      <td>0.023488</td>\n",
              "      <td>0.059168</td>\n",
              "      <td>0.013293</td>\n",
              "      <td>0.945185</td>\n",
              "    </tr>\n",
              "    <tr>\n",
              "      <th>TAXI_OUT</th>\n",
              "      <td>-0.022319</td>\n",
              "      <td>-0.169275</td>\n",
              "      <td>0.047680</td>\n",
              "      <td>0.008418</td>\n",
              "      <td>-0.041881</td>\n",
              "      <td>0.011825</td>\n",
              "      <td>0.059168</td>\n",
              "      <td>1.000000</td>\n",
              "      <td>0.037713</td>\n",
              "      <td>0.112940</td>\n",
              "      <td>0.206884</td>\n",
              "      <td>0.088154</td>\n",
              "      <td>0.072564</td>\n",
              "      <td>0.030963</td>\n",
              "      <td>0.003912</td>\n",
              "      <td>0.228078</td>\n",
              "    </tr>\n",
              "    <tr>\n",
              "      <th>WHEELS_OFF</th>\n",
              "      <td>0.004162</td>\n",
              "      <td>0.010740</td>\n",
              "      <td>0.005493</td>\n",
              "      <td>0.008557</td>\n",
              "      <td>-0.032174</td>\n",
              "      <td>0.029906</td>\n",
              "      <td>0.165589</td>\n",
              "      <td>0.037713</td>\n",
              "      <td>1.000000</td>\n",
              "      <td>-0.028082</td>\n",
              "      <td>-0.026809</td>\n",
              "      <td>-0.029270</td>\n",
              "      <td>-0.027385</td>\n",
              "      <td>0.693019</td>\n",
              "      <td>-0.037804</td>\n",
              "      <td>0.158763</td>\n",
              "    </tr>\n",
              "    <tr>\n",
              "      <th>SCHEDULED_TIME</th>\n",
              "      <td>0.014650</td>\n",
              "      <td>-0.106159</td>\n",
              "      <td>-0.317195</td>\n",
              "      <td>-0.076288</td>\n",
              "      <td>0.059026</td>\n",
              "      <td>0.092866</td>\n",
              "      <td>0.027224</td>\n",
              "      <td>0.112940</td>\n",
              "      <td>-0.028082</td>\n",
              "      <td>1.000000</td>\n",
              "      <td>0.985034</td>\n",
              "      <td>0.990659</td>\n",
              "      <td>0.984168</td>\n",
              "      <td>0.023056</td>\n",
              "      <td>0.097156</td>\n",
              "      <td>-0.029100</td>\n",
              "    </tr>\n",
              "    <tr>\n",
              "      <th>ELAPSED_TIME</th>\n",
              "      <td>0.011054</td>\n",
              "      <td>-0.111536</td>\n",
              "      <td>-0.307856</td>\n",
              "      <td>-0.079334</td>\n",
              "      <td>0.062491</td>\n",
              "      <td>0.095235</td>\n",
              "      <td>0.030453</td>\n",
              "      <td>0.206884</td>\n",
              "      <td>-0.026809</td>\n",
              "      <td>0.985034</td>\n",
              "      <td>1.000000</td>\n",
              "      <td>0.989848</td>\n",
              "      <td>0.973200</td>\n",
              "      <td>0.025306</td>\n",
              "      <td>0.154929</td>\n",
              "      <td>0.030248</td>\n",
              "    </tr>\n",
              "    <tr>\n",
              "      <th>AIR_TIME</th>\n",
              "      <td>0.014116</td>\n",
              "      <td>-0.087437</td>\n",
              "      <td>-0.320790</td>\n",
              "      <td>-0.079819</td>\n",
              "      <td>0.066301</td>\n",
              "      <td>0.101811</td>\n",
              "      <td>0.022909</td>\n",
              "      <td>0.088154</td>\n",
              "      <td>-0.029270</td>\n",
              "      <td>0.990659</td>\n",
              "      <td>0.989848</td>\n",
              "      <td>1.000000</td>\n",
              "      <td>0.985354</td>\n",
              "      <td>0.022483</td>\n",
              "      <td>0.080357</td>\n",
              "      <td>-0.006464</td>\n",
              "    </tr>\n",
              "    <tr>\n",
              "      <th>DISTANCE</th>\n",
              "      <td>0.015948</td>\n",
              "      <td>-0.083165</td>\n",
              "      <td>-0.330992</td>\n",
              "      <td>-0.076144</td>\n",
              "      <td>0.085863</td>\n",
              "      <td>0.086198</td>\n",
              "      <td>0.023488</td>\n",
              "      <td>0.072564</td>\n",
              "      <td>-0.027385</td>\n",
              "      <td>0.984168</td>\n",
              "      <td>0.973200</td>\n",
              "      <td>0.985354</td>\n",
              "      <td>1.000000</td>\n",
              "      <td>0.018387</td>\n",
              "      <td>0.073628</td>\n",
              "      <td>-0.024719</td>\n",
              "    </tr>\n",
              "    <tr>\n",
              "      <th>WHEELS_ON</th>\n",
              "      <td>0.005950</td>\n",
              "      <td>-0.008698</td>\n",
              "      <td>-0.005480</td>\n",
              "      <td>0.000806</td>\n",
              "      <td>-0.004189</td>\n",
              "      <td>0.021627</td>\n",
              "      <td>0.059168</td>\n",
              "      <td>0.030963</td>\n",
              "      <td>0.693019</td>\n",
              "      <td>0.023056</td>\n",
              "      <td>0.025306</td>\n",
              "      <td>0.022483</td>\n",
              "      <td>0.018387</td>\n",
              "      <td>1.000000</td>\n",
              "      <td>-0.004090</td>\n",
              "      <td>0.059198</td>\n",
              "    </tr>\n",
              "    <tr>\n",
              "      <th>TAXI_IN</th>\n",
              "      <td>0.000186</td>\n",
              "      <td>-0.078730</td>\n",
              "      <td>-0.019212</td>\n",
              "      <td>-0.035165</td>\n",
              "      <td>0.039799</td>\n",
              "      <td>-0.069010</td>\n",
              "      <td>0.013293</td>\n",
              "      <td>0.003912</td>\n",
              "      <td>-0.037804</td>\n",
              "      <td>0.097156</td>\n",
              "      <td>0.154929</td>\n",
              "      <td>0.080357</td>\n",
              "      <td>0.073628</td>\n",
              "      <td>-0.004090</td>\n",
              "      <td>1.000000</td>\n",
              "      <td>0.117817</td>\n",
              "    </tr>\n",
              "    <tr>\n",
              "      <th>ARRIVAL_DELAY</th>\n",
              "      <td>-0.021248</td>\n",
              "      <td>0.019896</td>\n",
              "      <td>0.017523</td>\n",
              "      <td>-0.009082</td>\n",
              "      <td>-0.001406</td>\n",
              "      <td>0.002949</td>\n",
              "      <td>0.945185</td>\n",
              "      <td>0.228078</td>\n",
              "      <td>0.158763</td>\n",
              "      <td>-0.029100</td>\n",
              "      <td>0.030248</td>\n",
              "      <td>-0.006464</td>\n",
              "      <td>-0.024719</td>\n",
              "      <td>0.059198</td>\n",
              "      <td>0.117817</td>\n",
              "      <td>1.000000</td>\n",
              "    </tr>\n",
              "  </tbody>\n",
              "</table>\n",
              "</div>"
            ],
            "text/plain": [
              "                          DAY_OF_WEEK  AIRLINE_CODE  ...   TAXI_IN  ARRIVAL_DELAY\n",
              "DAY_OF_WEEK                  1.000000     -0.005651  ...  0.000186      -0.021248\n",
              "AIRLINE_CODE                -0.005651      1.000000  ... -0.078730       0.019896\n",
              "FLIGHT_NUMBER                0.015488      0.077456  ... -0.019212       0.017523\n",
              "TAIL_NUMBER                 -0.000240      0.094301  ... -0.035165      -0.009082\n",
              "ORIGIN_AIRPORT_CODE          0.004250      0.082701  ...  0.039799      -0.001406\n",
              "DESTINATION_AIRPORT_CODE     0.004411      0.082543  ... -0.069010       0.002949\n",
              "DEPARTURE_DELAY             -0.015044      0.028838  ...  0.013293       0.945185\n",
              "TAXI_OUT                    -0.022319     -0.169275  ...  0.003912       0.228078\n",
              "WHEELS_OFF                   0.004162      0.010740  ... -0.037804       0.158763\n",
              "SCHEDULED_TIME               0.014650     -0.106159  ...  0.097156      -0.029100\n",
              "ELAPSED_TIME                 0.011054     -0.111536  ...  0.154929       0.030248\n",
              "AIR_TIME                     0.014116     -0.087437  ...  0.080357      -0.006464\n",
              "DISTANCE                     0.015948     -0.083165  ...  0.073628      -0.024719\n",
              "WHEELS_ON                    0.005950     -0.008698  ... -0.004090       0.059198\n",
              "TAXI_IN                      0.000186     -0.078730  ...  1.000000       0.117817\n",
              "ARRIVAL_DELAY               -0.021248      0.019896  ...  0.117817       1.000000\n",
              "\n",
              "[16 rows x 16 columns]"
            ]
          },
          "metadata": {},
          "execution_count": 46
        }
      ]
    },
    {
      "cell_type": "code",
      "metadata": {
        "colab": {
          "base_uri": "https://localhost:8080/",
          "height": 297
        },
        "id": "j77_GGUhOYlf",
        "outputId": "e8f3bf4e-9f51-41de-bfac-35d0353d6efc"
      },
      "source": [
        "sns.barplot(x=\"AIRLINE_CODE\", y= \"ARRIVAL_DELAY\", palette=\"pastel\", data=flights_4)"
      ],
      "execution_count": 47,
      "outputs": [
        {
          "output_type": "execute_result",
          "data": {
            "text/plain": [
              "<matplotlib.axes._subplots.AxesSubplot at 0x7fc10b98e150>"
            ]
          },
          "metadata": {},
          "execution_count": 47
        },
        {
          "output_type": "display_data",
          "data": {
            "image/png": "[encoded data removed]",
            "text/plain": [
              "<Figure size 432x288 with 1 Axes>"
            ]
          },
          "metadata": {
            "needs_background": "light"
          }
        }
      ]
    },
    {
      "cell_type": "code",
      "metadata": {
        "colab": {
          "base_uri": "https://localhost:8080/",
          "height": 234
        },
        "id": "YE1tpe3jPrnr",
        "outputId": "dc73947c-9bf4-484c-bf7b-3847af332588"
      },
      "source": [
        "sns.pairplot(flights_4, y_vars=['ARRIVAL_DELAY'], kind=\"scatter\")"
      ],
      "execution_count": 49,
      "outputs": [
        {
          "output_type": "execute_result",
          "data": {
            "text/plain": [
              "<seaborn.axisgrid.PairGrid at 0x7fc10b349450>"
            ]
          },
          "metadata": {},
          "execution_count": 49
        },
        {
          "output_type": "display_data",
          "data": {
            "image/png": "[encoded data removed]",
            "text/plain": [
              "<Figure size 2880x180 with 17 Axes>"
            ]
          },
          "metadata": {
            "needs_background": "light"
          }
        }
      ]
    },
    {
      "cell_type": "code",
      "metadata": {
        "id": "KVHmRLE5V2nA"
      },
      "source": [
        "#MODELE"
      ],
      "execution_count": 50,
      "outputs": []
    },
    {
      "cell_type": "code",
      "metadata": {
        "id": "_nOzIYFTV2nA",
        "colab": {
          "base_uri": "https://localhost:8080/",
          "height": 180
        },
        "outputId": "62507cbe-77f9-48f6-8adb-30b5ef15fefd"
      },
      "source": [
        "y = flights_4.pop('ARRIVAL_DELAY')\n",
        "X = flights_4"
      ],
      "execution_count": 1,
      "outputs": [
        {
          "output_type": "error",
          "ename": "NameError",
          "evalue": "ignored",
          "traceback": [
            "\u001b[0;31m---------------------------------------------------------------------------\u001b[0m",
            "\u001b[0;31mNameError\u001b[0m                                 Traceback (most recent call last)",
            "\u001b[0;32m<ipython-input-1-e7ca770d1633>\u001b[0m in \u001b[0;36m<module>\u001b[0;34m()\u001b[0m\n\u001b[0;32m----> 1\u001b[0;31m \u001b[0my\u001b[0m \u001b[0;34m=\u001b[0m \u001b[0mflights_4\u001b[0m\u001b[0;34m.\u001b[0m\u001b[0mpop\u001b[0m\u001b[0;34m(\u001b[0m\u001b[0;34m'ARRIVAL_DELAY'\u001b[0m\u001b[0;34m)\u001b[0m\u001b[0;34m\u001b[0m\u001b[0;34m\u001b[0m\u001b[0m\n\u001b[0m\u001b[1;32m      2\u001b[0m \u001b[0mX\u001b[0m \u001b[0;34m=\u001b[0m \u001b[0mflights_4\u001b[0m\u001b[0;34m\u001b[0m\u001b[0;34m\u001b[0m\u001b[0m\n",
            "\u001b[0;31mNameError\u001b[0m: name 'flights_4' is not defined"
          ]
        }
      ]
    },
    {
      "cell_type": "code",
      "metadata": {
        "colab": {
          "base_uri": "https://localhost:8080/"
        },
        "id": "8SZNpdnQV2nA",
        "outputId": "b70ebabd-bd38-44b5-8092-4b13a763d01f"
      },
      "source": [
        "y.head()"
      ],
      "execution_count": 52,
      "outputs": [
        {
          "output_type": "execute_result",
          "data": {
            "text/plain": [
              "0    1.0\n",
              "1    2.0\n",
              "2   -4.0\n",
              "3    1.0\n",
              "4   -2.0\n",
              "Name: ARRIVAL_DELAY, dtype: float64"
            ]
          },
          "metadata": {},
          "execution_count": 52
        }
      ]
    },
    {
      "cell_type": "code",
      "metadata": {
        "id": "_EFTNKpfV2nB"
      },
      "source": [
        "from sklearn.model_selection import train_test_split\n",
        "\n",
        "seed_1 = 234  #Data preprocessing\n",
        "test_size = 0.2\n",
        "val_size = 0.25\n",
        "seed_2 = 123  #Data training\n",
        "\n",
        "X_train, X_test, y_train, y_test = train_test_split(X, y, \n",
        "                                                    test_size=test_size, \n",
        "                                                    random_state=seed_1)\n",
        "\n",
        "X_train, X_val, y_train, y_val = train_test_split(X_train, y_train, \n",
        "                                                  test_size=val_size, \n",
        "                                                  random_state=seed_2)"
      ],
      "execution_count": null,
      "outputs": []
    },
    {
      "cell_type": "code",
      "metadata": {
        "id": "RzaoPi0CV2nB"
      },
      "source": [
        "from sklearn.linear_model import LinearRegression\n",
        "from sklearn.model_selection import cross_val_score, train_test_split\n",
        "from sklearn.metrics import r2_score, mean_absolute_error, mean_squared_error"
      ],
      "execution_count": null,
      "outputs": []
    },
    {
      "cell_type": "code",
      "metadata": {
        "id": "6ONSQp1yV2nB"
      },
      "source": [
        "#Regresja Liniowa"
      ],
      "execution_count": null,
      "outputs": []
    },
    {
      "cell_type": "code",
      "metadata": {
        "id": "Txe-y9QZV2nC"
      },
      "source": [
        "model = LinearRegression()\n",
        "model.fit(X,y)\n",
        "\n",
        "def mean_absolute_percentage_error(y_true, y_pred):\n",
        "    y_true, y_pred = np.array(y_true), np.array(y_pred)\n",
        "    return np.mean(np.abs((y_true - y_pred) / y_true)) * 100\n",
        "\n",
        "for i in range(2):\n",
        "  X_train, X_test, y_train, y_test = train_test_split(X, y, \n",
        "                                                  test_size=test_size, \n",
        "                                                  random_state=i)\n",
        "  y_predict = model.predict(X_test)\n",
        "  print(\"R squared: {}\".format(r2_score(y_test, y_predict)))\n",
        "  print(\"MAE: {}\".format(mean_absolute_error(y_test, y_predict)))\n",
        "  print(\"MAPE: {}\".format(mean_absolute_percentage_error(y_test, y_predict)))\n",
        "  print(\"MSE: {}\".format(mean_squared_error(y_test, y_predict)))\n",
        "  print(\"RMSE: {}\".format(mean_squared_error(y_test, y_predict, squared=False)))\n",
        "  print(\"RMSE_NP: {}\\n\".format(np.sqrt(mean_squared_error(y_test, y_predict))))"
      ],
      "execution_count": null,
      "outputs": []
    },
    {
      "cell_type": "code",
      "metadata": {
        "id": "1z7RYOlJV2nC"
      },
      "source": [
        "#Drzewa decyzyjne"
      ],
      "execution_count": null,
      "outputs": []
    },
    {
      "cell_type": "code",
      "metadata": {
        "id": "C-RX9QWmV2nD"
      },
      "source": [
        "flights_tree = DecisionTreeRegressor()\n",
        "flights_tree.fit(X,y)\n",
        "y_predict = flights_tree.predict(X)\n",
        "#print(\"R Squared: {}\".format(r2_score(y,y_predict)))\n",
        "for i in range(2):\n",
        "  X_train, X_test, y_train, y_test = train_test_split(X,y,\n",
        "                                                      test_size=test_size,\n",
        "                                                      random_state=i)\n",
        "  y_predict = model_cars_tree.predict(X_test)\n",
        "  print(\"R Squared: {}\".format(r2_score(y_test,y_predict)))\n",
        "  print(\"MAE: {}\".format(mean_absolute_error(y_test,y_predict)))\n",
        "  print(\"MAPE: {}\".format(mean_absolute_percentage_error(y_test,y_predict)))\n",
        "  print(\"MSE: {}\".format(mean_squared_error(y_test,y_predict)))\n",
        "  print(\"RMSE_NP: {}\\n\".format(np.sqrt(mean_squared_error(y_test,y_predict))))"
      ],
      "execution_count": null,
      "outputs": []
    },
    {
      "cell_type": "code",
      "metadata": {
        "id": "Bq1Yvl5RV2nD"
      },
      "source": [
        ""
      ],
      "execution_count": null,
      "outputs": []
    }
  ]
}